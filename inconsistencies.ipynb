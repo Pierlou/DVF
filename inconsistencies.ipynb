{
 "cells": [
  {
   "cell_type": "code",
   "execution_count": 1,
   "id": "4571a30f",
   "metadata": {},
   "outputs": [],
   "source": [
    "import numpy as np\n",
    "import pandas as pd\n",
    "import plotly_express as px\n",
    "from unidecode import unidecode\n",
    "import os\n",
    "from datetime import date\n",
    "import matplotlib.pyplot as plt\n",
    "import plotly.graph_objects as go\n",
    "pd.set_option('display.max_columns', None)"
   ]
  },
  {
   "cell_type": "code",
   "execution_count": 13,
   "id": "3036a3e4",
   "metadata": {
    "scrolled": true
   },
   "outputs": [
    {
     "name": "stdout",
     "output_type": "stream",
     "text": [
      "Taux de doublons : 3.84%\n",
      "full_2017.csv\n",
      "Taux de doublons : 3.57%\n",
      "full_2018.csv\n",
      "Taux de doublons : 3.9%\n",
      "full_2019.csv\n",
      "Taux de doublons : 4.05%\n",
      "full_2020.csv\n",
      "Taux de doublons : 7.31%\n",
      "full_2021.csv\n",
      "Taux de doublons : 7.07%\n",
      "full_2022.csv\n"
     ]
    },
    {
     "data": {
      "text/html": [
       "<div>\n",
       "<style scoped>\n",
       "    .dataframe tbody tr th:only-of-type {\n",
       "        vertical-align: middle;\n",
       "    }\n",
       "\n",
       "    .dataframe tbody tr th {\n",
       "        vertical-align: top;\n",
       "    }\n",
       "\n",
       "    .dataframe thead th {\n",
       "        text-align: right;\n",
       "    }\n",
       "</style>\n",
       "<table border=\"1\" class=\"dataframe\">\n",
       "  <thead>\n",
       "    <tr style=\"text-align: right;\">\n",
       "      <th></th>\n",
       "      <th>id_mutation</th>\n",
       "      <th>date_mutation</th>\n",
       "      <th>numero_disposition</th>\n",
       "      <th>nature_mutation</th>\n",
       "      <th>valeur_fonciere</th>\n",
       "      <th>adresse_numero</th>\n",
       "      <th>adresse_suffixe</th>\n",
       "      <th>adresse_nom_voie</th>\n",
       "      <th>adresse_code_voie</th>\n",
       "      <th>code_postal</th>\n",
       "      <th>code_commune</th>\n",
       "      <th>nom_commune</th>\n",
       "      <th>code_departement</th>\n",
       "      <th>ancien_code_commune</th>\n",
       "      <th>ancien_nom_commune</th>\n",
       "      <th>id_parcelle</th>\n",
       "      <th>ancien_id_parcelle</th>\n",
       "      <th>numero_volume</th>\n",
       "      <th>lot1_numero</th>\n",
       "      <th>lot1_surface_carrez</th>\n",
       "      <th>lot2_numero</th>\n",
       "      <th>lot2_surface_carrez</th>\n",
       "      <th>lot3_numero</th>\n",
       "      <th>lot3_surface_carrez</th>\n",
       "      <th>lot4_numero</th>\n",
       "      <th>lot4_surface_carrez</th>\n",
       "      <th>lot5_numero</th>\n",
       "      <th>lot5_surface_carrez</th>\n",
       "      <th>nombre_lots</th>\n",
       "      <th>code_type_local</th>\n",
       "      <th>type_local</th>\n",
       "      <th>surface_reelle_bati</th>\n",
       "      <th>nombre_pieces_principales</th>\n",
       "      <th>code_nature_culture</th>\n",
       "      <th>nature_culture</th>\n",
       "      <th>code_nature_culture_speciale</th>\n",
       "      <th>nature_culture_speciale</th>\n",
       "      <th>surface_terrain</th>\n",
       "      <th>longitude</th>\n",
       "      <th>latitude</th>\n",
       "    </tr>\n",
       "  </thead>\n",
       "  <tbody>\n",
       "    <tr>\n",
       "      <th>0</th>\n",
       "      <td>2017-1</td>\n",
       "      <td>2017-07-04</td>\n",
       "      <td>000001</td>\n",
       "      <td>Vente</td>\n",
       "      <td>166100.0</td>\n",
       "      <td>843</td>\n",
       "      <td>NaN</td>\n",
       "      <td>RUE DE LA CHARPINE</td>\n",
       "      <td>0100</td>\n",
       "      <td>01000</td>\n",
       "      <td>01344</td>\n",
       "      <td>Saint-Denis-lès-Bourg</td>\n",
       "      <td>01</td>\n",
       "      <td>NaN</td>\n",
       "      <td>NaN</td>\n",
       "      <td>01344000AK0534</td>\n",
       "      <td>NaN</td>\n",
       "      <td>NaN</td>\n",
       "      <td>NaN</td>\n",
       "      <td>NaN</td>\n",
       "      <td>NaN</td>\n",
       "      <td>NaN</td>\n",
       "      <td>NaN</td>\n",
       "      <td>NaN</td>\n",
       "      <td>NaN</td>\n",
       "      <td>NaN</td>\n",
       "      <td>NaN</td>\n",
       "      <td>NaN</td>\n",
       "      <td>0</td>\n",
       "      <td>1</td>\n",
       "      <td>Maison</td>\n",
       "      <td>73.0</td>\n",
       "      <td>4.0</td>\n",
       "      <td>S</td>\n",
       "      <td>sols</td>\n",
       "      <td>NaN</td>\n",
       "      <td>NaN</td>\n",
       "      <td>391.0</td>\n",
       "      <td>5.204386</td>\n",
       "      <td>46.193683</td>\n",
       "    </tr>\n",
       "    <tr>\n",
       "      <th>1</th>\n",
       "      <td>2017-2</td>\n",
       "      <td>2017-07-06</td>\n",
       "      <td>000001</td>\n",
       "      <td>Vente</td>\n",
       "      <td>59000.0</td>\n",
       "      <td>2</td>\n",
       "      <td>NaN</td>\n",
       "      <td>RUE GOUNOD</td>\n",
       "      <td>1720</td>\n",
       "      <td>01000</td>\n",
       "      <td>01053</td>\n",
       "      <td>Bourg-en-Bresse</td>\n",
       "      <td>01</td>\n",
       "      <td>NaN</td>\n",
       "      <td>NaN</td>\n",
       "      <td>01053000AL0175</td>\n",
       "      <td>NaN</td>\n",
       "      <td>NaN</td>\n",
       "      <td>7</td>\n",
       "      <td>NaN</td>\n",
       "      <td>NaN</td>\n",
       "      <td>NaN</td>\n",
       "      <td>NaN</td>\n",
       "      <td>NaN</td>\n",
       "      <td>NaN</td>\n",
       "      <td>NaN</td>\n",
       "      <td>NaN</td>\n",
       "      <td>NaN</td>\n",
       "      <td>1</td>\n",
       "      <td>3</td>\n",
       "      <td>Dépendance</td>\n",
       "      <td>NaN</td>\n",
       "      <td>0.0</td>\n",
       "      <td>NaN</td>\n",
       "      <td>NaN</td>\n",
       "      <td>NaN</td>\n",
       "      <td>NaN</td>\n",
       "      <td>NaN</td>\n",
       "      <td>5.219932</td>\n",
       "      <td>46.196098</td>\n",
       "    </tr>\n",
       "    <tr>\n",
       "      <th>2</th>\n",
       "      <td>2017-2</td>\n",
       "      <td>2017-07-06</td>\n",
       "      <td>000001</td>\n",
       "      <td>Vente</td>\n",
       "      <td>59000.0</td>\n",
       "      <td>2</td>\n",
       "      <td>NaN</td>\n",
       "      <td>RUE GOUNOD</td>\n",
       "      <td>1720</td>\n",
       "      <td>01000</td>\n",
       "      <td>01053</td>\n",
       "      <td>Bourg-en-Bresse</td>\n",
       "      <td>01</td>\n",
       "      <td>NaN</td>\n",
       "      <td>NaN</td>\n",
       "      <td>01053000AL0175</td>\n",
       "      <td>NaN</td>\n",
       "      <td>NaN</td>\n",
       "      <td>45</td>\n",
       "      <td>32.32</td>\n",
       "      <td>NaN</td>\n",
       "      <td>NaN</td>\n",
       "      <td>NaN</td>\n",
       "      <td>NaN</td>\n",
       "      <td>NaN</td>\n",
       "      <td>NaN</td>\n",
       "      <td>NaN</td>\n",
       "      <td>NaN</td>\n",
       "      <td>1</td>\n",
       "      <td>2</td>\n",
       "      <td>Appartement</td>\n",
       "      <td>32.0</td>\n",
       "      <td>1.0</td>\n",
       "      <td>NaN</td>\n",
       "      <td>NaN</td>\n",
       "      <td>NaN</td>\n",
       "      <td>NaN</td>\n",
       "      <td>NaN</td>\n",
       "      <td>5.219932</td>\n",
       "      <td>46.196098</td>\n",
       "    </tr>\n",
       "    <tr>\n",
       "      <th>3</th>\n",
       "      <td>2017-3</td>\n",
       "      <td>2017-07-07</td>\n",
       "      <td>000001</td>\n",
       "      <td>Vente terrain à bâtir</td>\n",
       "      <td>55000.0</td>\n",
       "      <td>NaN</td>\n",
       "      <td>NaN</td>\n",
       "      <td>LA MAGDELEINE</td>\n",
       "      <td>B033</td>\n",
       "      <td>01160</td>\n",
       "      <td>01430</td>\n",
       "      <td>Varambon</td>\n",
       "      <td>01</td>\n",
       "      <td>NaN</td>\n",
       "      <td>NaN</td>\n",
       "      <td>014300000B0831</td>\n",
       "      <td>NaN</td>\n",
       "      <td>NaN</td>\n",
       "      <td>NaN</td>\n",
       "      <td>NaN</td>\n",
       "      <td>NaN</td>\n",
       "      <td>NaN</td>\n",
       "      <td>NaN</td>\n",
       "      <td>NaN</td>\n",
       "      <td>NaN</td>\n",
       "      <td>NaN</td>\n",
       "      <td>NaN</td>\n",
       "      <td>NaN</td>\n",
       "      <td>0</td>\n",
       "      <td>NaN</td>\n",
       "      <td>NaN</td>\n",
       "      <td>NaN</td>\n",
       "      <td>NaN</td>\n",
       "      <td>AB</td>\n",
       "      <td>terrains a bâtir</td>\n",
       "      <td>NaN</td>\n",
       "      <td>NaN</td>\n",
       "      <td>605.0</td>\n",
       "      <td>5.304674</td>\n",
       "      <td>46.040624</td>\n",
       "    </tr>\n",
       "    <tr>\n",
       "      <th>4</th>\n",
       "      <td>2017-4</td>\n",
       "      <td>2017-07-06</td>\n",
       "      <td>000001</td>\n",
       "      <td>Vente</td>\n",
       "      <td>130000.0</td>\n",
       "      <td>NaN</td>\n",
       "      <td>NaN</td>\n",
       "      <td>HAMEAU DU CREUX EST</td>\n",
       "      <td>B148</td>\n",
       "      <td>01750</td>\n",
       "      <td>01320</td>\n",
       "      <td>Replonges</td>\n",
       "      <td>01</td>\n",
       "      <td>NaN</td>\n",
       "      <td>NaN</td>\n",
       "      <td>013200000D4182</td>\n",
       "      <td>NaN</td>\n",
       "      <td>NaN</td>\n",
       "      <td>NaN</td>\n",
       "      <td>NaN</td>\n",
       "      <td>NaN</td>\n",
       "      <td>NaN</td>\n",
       "      <td>NaN</td>\n",
       "      <td>NaN</td>\n",
       "      <td>NaN</td>\n",
       "      <td>NaN</td>\n",
       "      <td>NaN</td>\n",
       "      <td>NaN</td>\n",
       "      <td>0</td>\n",
       "      <td>NaN</td>\n",
       "      <td>NaN</td>\n",
       "      <td>NaN</td>\n",
       "      <td>NaN</td>\n",
       "      <td>AG</td>\n",
       "      <td>terrains d'agrément</td>\n",
       "      <td>NaN</td>\n",
       "      <td>NaN</td>\n",
       "      <td>259.0</td>\n",
       "      <td>NaN</td>\n",
       "      <td>NaN</td>\n",
       "    </tr>\n",
       "    <tr>\n",
       "      <th>...</th>\n",
       "      <td>...</td>\n",
       "      <td>...</td>\n",
       "      <td>...</td>\n",
       "      <td>...</td>\n",
       "      <td>...</td>\n",
       "      <td>...</td>\n",
       "      <td>...</td>\n",
       "      <td>...</td>\n",
       "      <td>...</td>\n",
       "      <td>...</td>\n",
       "      <td>...</td>\n",
       "      <td>...</td>\n",
       "      <td>...</td>\n",
       "      <td>...</td>\n",
       "      <td>...</td>\n",
       "      <td>...</td>\n",
       "      <td>...</td>\n",
       "      <td>...</td>\n",
       "      <td>...</td>\n",
       "      <td>...</td>\n",
       "      <td>...</td>\n",
       "      <td>...</td>\n",
       "      <td>...</td>\n",
       "      <td>...</td>\n",
       "      <td>...</td>\n",
       "      <td>...</td>\n",
       "      <td>...</td>\n",
       "      <td>...</td>\n",
       "      <td>...</td>\n",
       "      <td>...</td>\n",
       "      <td>...</td>\n",
       "      <td>...</td>\n",
       "      <td>...</td>\n",
       "      <td>...</td>\n",
       "      <td>...</td>\n",
       "      <td>...</td>\n",
       "      <td>...</td>\n",
       "      <td>...</td>\n",
       "      <td>...</td>\n",
       "      <td>...</td>\n",
       "    </tr>\n",
       "    <tr>\n",
       "      <th>1429088</th>\n",
       "      <td>2022-537271</td>\n",
       "      <td>2022-06-21</td>\n",
       "      <td>000001</td>\n",
       "      <td>Vente</td>\n",
       "      <td>423000.0</td>\n",
       "      <td>43</td>\n",
       "      <td>NaN</td>\n",
       "      <td>RUE DES FAVORITES</td>\n",
       "      <td>3536</td>\n",
       "      <td>75015</td>\n",
       "      <td>75115</td>\n",
       "      <td>Paris 15e Arrondissement</td>\n",
       "      <td>75</td>\n",
       "      <td>NaN</td>\n",
       "      <td>NaN</td>\n",
       "      <td>75115000AC0055</td>\n",
       "      <td>NaN</td>\n",
       "      <td>NaN</td>\n",
       "      <td>16</td>\n",
       "      <td>NaN</td>\n",
       "      <td>48</td>\n",
       "      <td>NaN</td>\n",
       "      <td>NaN</td>\n",
       "      <td>NaN</td>\n",
       "      <td>NaN</td>\n",
       "      <td>NaN</td>\n",
       "      <td>NaN</td>\n",
       "      <td>NaN</td>\n",
       "      <td>2</td>\n",
       "      <td>3</td>\n",
       "      <td>Dépendance</td>\n",
       "      <td>NaN</td>\n",
       "      <td>0.0</td>\n",
       "      <td>NaN</td>\n",
       "      <td>NaN</td>\n",
       "      <td>NaN</td>\n",
       "      <td>NaN</td>\n",
       "      <td>NaN</td>\n",
       "      <td>2.305379</td>\n",
       "      <td>48.837454</td>\n",
       "    </tr>\n",
       "    <tr>\n",
       "      <th>1429089</th>\n",
       "      <td>2022-537271</td>\n",
       "      <td>2022-06-21</td>\n",
       "      <td>000001</td>\n",
       "      <td>Vente</td>\n",
       "      <td>423000.0</td>\n",
       "      <td>43</td>\n",
       "      <td>NaN</td>\n",
       "      <td>RUE DES FAVORITES</td>\n",
       "      <td>3536</td>\n",
       "      <td>75015</td>\n",
       "      <td>75115</td>\n",
       "      <td>Paris 15e Arrondissement</td>\n",
       "      <td>75</td>\n",
       "      <td>NaN</td>\n",
       "      <td>NaN</td>\n",
       "      <td>75115000AC0055</td>\n",
       "      <td>NaN</td>\n",
       "      <td>NaN</td>\n",
       "      <td>73</td>\n",
       "      <td>NaN</td>\n",
       "      <td>NaN</td>\n",
       "      <td>NaN</td>\n",
       "      <td>NaN</td>\n",
       "      <td>NaN</td>\n",
       "      <td>NaN</td>\n",
       "      <td>NaN</td>\n",
       "      <td>NaN</td>\n",
       "      <td>NaN</td>\n",
       "      <td>1</td>\n",
       "      <td>3</td>\n",
       "      <td>Dépendance</td>\n",
       "      <td>NaN</td>\n",
       "      <td>0.0</td>\n",
       "      <td>NaN</td>\n",
       "      <td>NaN</td>\n",
       "      <td>NaN</td>\n",
       "      <td>NaN</td>\n",
       "      <td>NaN</td>\n",
       "      <td>2.305379</td>\n",
       "      <td>48.837454</td>\n",
       "    </tr>\n",
       "    <tr>\n",
       "      <th>1429090</th>\n",
       "      <td>2022-537272</td>\n",
       "      <td>2022-06-30</td>\n",
       "      <td>000001</td>\n",
       "      <td>Vente</td>\n",
       "      <td>104650.0</td>\n",
       "      <td>50</td>\n",
       "      <td>NaN</td>\n",
       "      <td>RUE LEON FROT</td>\n",
       "      <td>5554</td>\n",
       "      <td>75011</td>\n",
       "      <td>75111</td>\n",
       "      <td>Paris 11e Arrondissement</td>\n",
       "      <td>75</td>\n",
       "      <td>NaN</td>\n",
       "      <td>NaN</td>\n",
       "      <td>75111000BS0234</td>\n",
       "      <td>NaN</td>\n",
       "      <td>NaN</td>\n",
       "      <td>31</td>\n",
       "      <td>NaN</td>\n",
       "      <td>NaN</td>\n",
       "      <td>NaN</td>\n",
       "      <td>NaN</td>\n",
       "      <td>NaN</td>\n",
       "      <td>NaN</td>\n",
       "      <td>NaN</td>\n",
       "      <td>NaN</td>\n",
       "      <td>NaN</td>\n",
       "      <td>1</td>\n",
       "      <td>2</td>\n",
       "      <td>Appartement</td>\n",
       "      <td>15.0</td>\n",
       "      <td>1.0</td>\n",
       "      <td>NaN</td>\n",
       "      <td>NaN</td>\n",
       "      <td>NaN</td>\n",
       "      <td>NaN</td>\n",
       "      <td>NaN</td>\n",
       "      <td>2.386354</td>\n",
       "      <td>48.856079</td>\n",
       "    </tr>\n",
       "    <tr>\n",
       "      <th>1429091</th>\n",
       "      <td>2022-537273</td>\n",
       "      <td>2022-02-10</td>\n",
       "      <td>000001</td>\n",
       "      <td>Adjudication</td>\n",
       "      <td>51000.0</td>\n",
       "      <td>12</td>\n",
       "      <td>NaN</td>\n",
       "      <td>SQ HENRY PATE</td>\n",
       "      <td>4608</td>\n",
       "      <td>75016</td>\n",
       "      <td>75116</td>\n",
       "      <td>Paris 16e Arrondissement</td>\n",
       "      <td>75</td>\n",
       "      <td>NaN</td>\n",
       "      <td>NaN</td>\n",
       "      <td>75116000BY0016</td>\n",
       "      <td>NaN</td>\n",
       "      <td>NaN</td>\n",
       "      <td>26</td>\n",
       "      <td>NaN</td>\n",
       "      <td>NaN</td>\n",
       "      <td>NaN</td>\n",
       "      <td>NaN</td>\n",
       "      <td>NaN</td>\n",
       "      <td>NaN</td>\n",
       "      <td>NaN</td>\n",
       "      <td>NaN</td>\n",
       "      <td>NaN</td>\n",
       "      <td>1</td>\n",
       "      <td>3</td>\n",
       "      <td>Dépendance</td>\n",
       "      <td>NaN</td>\n",
       "      <td>0.0</td>\n",
       "      <td>NaN</td>\n",
       "      <td>NaN</td>\n",
       "      <td>NaN</td>\n",
       "      <td>NaN</td>\n",
       "      <td>NaN</td>\n",
       "      <td>2.271505</td>\n",
       "      <td>48.849026</td>\n",
       "    </tr>\n",
       "    <tr>\n",
       "      <th>1429092</th>\n",
       "      <td>2022-537274</td>\n",
       "      <td>2022-04-29</td>\n",
       "      <td>000001</td>\n",
       "      <td>Vente</td>\n",
       "      <td>200000.0</td>\n",
       "      <td>3</td>\n",
       "      <td>NaN</td>\n",
       "      <td>VLA D ORLEANS</td>\n",
       "      <td>6938</td>\n",
       "      <td>75014</td>\n",
       "      <td>75114</td>\n",
       "      <td>Paris 14e Arrondissement</td>\n",
       "      <td>75</td>\n",
       "      <td>NaN</td>\n",
       "      <td>NaN</td>\n",
       "      <td>75114000BT0071</td>\n",
       "      <td>NaN</td>\n",
       "      <td>NaN</td>\n",
       "      <td>7</td>\n",
       "      <td>16.55</td>\n",
       "      <td>NaN</td>\n",
       "      <td>NaN</td>\n",
       "      <td>NaN</td>\n",
       "      <td>NaN</td>\n",
       "      <td>NaN</td>\n",
       "      <td>NaN</td>\n",
       "      <td>NaN</td>\n",
       "      <td>NaN</td>\n",
       "      <td>1</td>\n",
       "      <td>3</td>\n",
       "      <td>Dépendance</td>\n",
       "      <td>NaN</td>\n",
       "      <td>0.0</td>\n",
       "      <td>NaN</td>\n",
       "      <td>NaN</td>\n",
       "      <td>NaN</td>\n",
       "      <td>NaN</td>\n",
       "      <td>NaN</td>\n",
       "      <td>2.328781</td>\n",
       "      <td>48.828676</td>\n",
       "    </tr>\n",
       "  </tbody>\n",
       "</table>\n",
       "<p>17145686 rows × 40 columns</p>\n",
       "</div>"
      ],
      "text/plain": [
       "         id_mutation date_mutation numero_disposition        nature_mutation  \\\n",
       "0             2017-1    2017-07-04             000001                  Vente   \n",
       "1             2017-2    2017-07-06             000001                  Vente   \n",
       "2             2017-2    2017-07-06             000001                  Vente   \n",
       "3             2017-3    2017-07-07             000001  Vente terrain à bâtir   \n",
       "4             2017-4    2017-07-06             000001                  Vente   \n",
       "...              ...           ...                ...                    ...   \n",
       "1429088  2022-537271    2022-06-21             000001                  Vente   \n",
       "1429089  2022-537271    2022-06-21             000001                  Vente   \n",
       "1429090  2022-537272    2022-06-30             000001                  Vente   \n",
       "1429091  2022-537273    2022-02-10             000001           Adjudication   \n",
       "1429092  2022-537274    2022-04-29             000001                  Vente   \n",
       "\n",
       "        valeur_fonciere adresse_numero adresse_suffixe     adresse_nom_voie  \\\n",
       "0              166100.0            843             NaN   RUE DE LA CHARPINE   \n",
       "1               59000.0              2             NaN           RUE GOUNOD   \n",
       "2               59000.0              2             NaN           RUE GOUNOD   \n",
       "3               55000.0            NaN             NaN        LA MAGDELEINE   \n",
       "4              130000.0            NaN             NaN  HAMEAU DU CREUX EST   \n",
       "...                 ...            ...             ...                  ...   \n",
       "1429088        423000.0             43             NaN    RUE DES FAVORITES   \n",
       "1429089        423000.0             43             NaN    RUE DES FAVORITES   \n",
       "1429090        104650.0             50             NaN        RUE LEON FROT   \n",
       "1429091         51000.0             12             NaN        SQ HENRY PATE   \n",
       "1429092        200000.0              3             NaN        VLA D ORLEANS   \n",
       "\n",
       "        adresse_code_voie code_postal code_commune               nom_commune  \\\n",
       "0                    0100       01000        01344     Saint-Denis-lès-Bourg   \n",
       "1                    1720       01000        01053           Bourg-en-Bresse   \n",
       "2                    1720       01000        01053           Bourg-en-Bresse   \n",
       "3                    B033       01160        01430                  Varambon   \n",
       "4                    B148       01750        01320                 Replonges   \n",
       "...                   ...         ...          ...                       ...   \n",
       "1429088              3536       75015        75115  Paris 15e Arrondissement   \n",
       "1429089              3536       75015        75115  Paris 15e Arrondissement   \n",
       "1429090              5554       75011        75111  Paris 11e Arrondissement   \n",
       "1429091              4608       75016        75116  Paris 16e Arrondissement   \n",
       "1429092              6938       75014        75114  Paris 14e Arrondissement   \n",
       "\n",
       "        code_departement ancien_code_commune ancien_nom_commune  \\\n",
       "0                     01                 NaN                NaN   \n",
       "1                     01                 NaN                NaN   \n",
       "2                     01                 NaN                NaN   \n",
       "3                     01                 NaN                NaN   \n",
       "4                     01                 NaN                NaN   \n",
       "...                  ...                 ...                ...   \n",
       "1429088               75                 NaN                NaN   \n",
       "1429089               75                 NaN                NaN   \n",
       "1429090               75                 NaN                NaN   \n",
       "1429091               75                 NaN                NaN   \n",
       "1429092               75                 NaN                NaN   \n",
       "\n",
       "            id_parcelle ancien_id_parcelle numero_volume lot1_numero  \\\n",
       "0        01344000AK0534                NaN           NaN         NaN   \n",
       "1        01053000AL0175                NaN           NaN           7   \n",
       "2        01053000AL0175                NaN           NaN          45   \n",
       "3        014300000B0831                NaN           NaN         NaN   \n",
       "4        013200000D4182                NaN           NaN         NaN   \n",
       "...                 ...                ...           ...         ...   \n",
       "1429088  75115000AC0055                NaN           NaN          16   \n",
       "1429089  75115000AC0055                NaN           NaN          73   \n",
       "1429090  75111000BS0234                NaN           NaN          31   \n",
       "1429091  75116000BY0016                NaN           NaN          26   \n",
       "1429092  75114000BT0071                NaN           NaN           7   \n",
       "\n",
       "        lot1_surface_carrez lot2_numero lot2_surface_carrez lot3_numero  \\\n",
       "0                       NaN         NaN                 NaN         NaN   \n",
       "1                       NaN         NaN                 NaN         NaN   \n",
       "2                     32.32         NaN                 NaN         NaN   \n",
       "3                       NaN         NaN                 NaN         NaN   \n",
       "4                       NaN         NaN                 NaN         NaN   \n",
       "...                     ...         ...                 ...         ...   \n",
       "1429088                 NaN          48                 NaN         NaN   \n",
       "1429089                 NaN         NaN                 NaN         NaN   \n",
       "1429090                 NaN         NaN                 NaN         NaN   \n",
       "1429091                 NaN         NaN                 NaN         NaN   \n",
       "1429092               16.55         NaN                 NaN         NaN   \n",
       "\n",
       "        lot3_surface_carrez lot4_numero lot4_surface_carrez lot5_numero  \\\n",
       "0                       NaN         NaN                 NaN         NaN   \n",
       "1                       NaN         NaN                 NaN         NaN   \n",
       "2                       NaN         NaN                 NaN         NaN   \n",
       "3                       NaN         NaN                 NaN         NaN   \n",
       "4                       NaN         NaN                 NaN         NaN   \n",
       "...                     ...         ...                 ...         ...   \n",
       "1429088                 NaN         NaN                 NaN         NaN   \n",
       "1429089                 NaN         NaN                 NaN         NaN   \n",
       "1429090                 NaN         NaN                 NaN         NaN   \n",
       "1429091                 NaN         NaN                 NaN         NaN   \n",
       "1429092                 NaN         NaN                 NaN         NaN   \n",
       "\n",
       "        lot5_surface_carrez nombre_lots code_type_local   type_local  \\\n",
       "0                       NaN           0               1       Maison   \n",
       "1                       NaN           1               3   Dépendance   \n",
       "2                       NaN           1               2  Appartement   \n",
       "3                       NaN           0             NaN          NaN   \n",
       "4                       NaN           0             NaN          NaN   \n",
       "...                     ...         ...             ...          ...   \n",
       "1429088                 NaN           2               3   Dépendance   \n",
       "1429089                 NaN           1               3   Dépendance   \n",
       "1429090                 NaN           1               2  Appartement   \n",
       "1429091                 NaN           1               3   Dépendance   \n",
       "1429092                 NaN           1               3   Dépendance   \n",
       "\n",
       "        surface_reelle_bati nombre_pieces_principales code_nature_culture  \\\n",
       "0                      73.0                       4.0                   S   \n",
       "1                       NaN                       0.0                 NaN   \n",
       "2                      32.0                       1.0                 NaN   \n",
       "3                       NaN                       NaN                  AB   \n",
       "4                       NaN                       NaN                  AG   \n",
       "...                     ...                       ...                 ...   \n",
       "1429088                 NaN                       0.0                 NaN   \n",
       "1429089                 NaN                       0.0                 NaN   \n",
       "1429090                15.0                       1.0                 NaN   \n",
       "1429091                 NaN                       0.0                 NaN   \n",
       "1429092                 NaN                       0.0                 NaN   \n",
       "\n",
       "              nature_culture code_nature_culture_speciale  \\\n",
       "0                       sols                          NaN   \n",
       "1                        NaN                          NaN   \n",
       "2                        NaN                          NaN   \n",
       "3           terrains a bâtir                          NaN   \n",
       "4        terrains d'agrément                          NaN   \n",
       "...                      ...                          ...   \n",
       "1429088                  NaN                          NaN   \n",
       "1429089                  NaN                          NaN   \n",
       "1429090                  NaN                          NaN   \n",
       "1429091                  NaN                          NaN   \n",
       "1429092                  NaN                          NaN   \n",
       "\n",
       "        nature_culture_speciale surface_terrain longitude   latitude  \n",
       "0                           NaN           391.0  5.204386  46.193683  \n",
       "1                           NaN             NaN  5.219932  46.196098  \n",
       "2                           NaN             NaN  5.219932  46.196098  \n",
       "3                           NaN           605.0  5.304674  46.040624  \n",
       "4                           NaN           259.0       NaN        NaN  \n",
       "...                         ...             ...       ...        ...  \n",
       "1429088                     NaN             NaN  2.305379  48.837454  \n",
       "1429089                     NaN             NaN  2.305379  48.837454  \n",
       "1429090                     NaN             NaN  2.386354  48.856079  \n",
       "1429091                     NaN             NaN  2.271505  48.849026  \n",
       "1429092                     NaN             NaN  2.328781  48.828676  \n",
       "\n",
       "[17145686 rows x 40 columns]"
      ]
     },
     "execution_count": 13,
     "metadata": {},
     "output_type": "execute_result"
    },
    {
     "data": {
      "image/png": "[encoded data removed]",
      "text/plain": [
       "<Figure size 640x480 with 1 Axes>"
      ]
     },
     "metadata": {},
     "output_type": "display_data"
    }
   ],
   "source": [
    "df = pd.DataFrame(None)\n",
    "for f in [k for k in os.listdir() if 'full_' in k]:\n",
    "    _ = pd.read_csv(f, \n",
    "                    sep=',', \n",
    "                    encoding= 'utf8',\n",
    "                    dtype=str,\n",
    "                   )\n",
    "    len_brute = len(_)\n",
    "    _ = _.drop_duplicates()\n",
    "    print(f'Taux de doublons : {round(100*(1-len(_)/len_brute), 2)}%') ## 4% de doublons par an\n",
    "    df= pd.concat([df, _])\n",
    "    print(f)\n",
    "## Benford\n",
    "benford = df['valeur_fonciere'].str.slice(0,1).value_counts(dropna=True).map(int)\n",
    "benford /= sum(benford)\n",
    "benford.plot.bar()\n",
    "to_cast = [\n",
    "    'valeur_fonciere',\n",
    "    'nombre_pieces_principales',\n",
    "    'longitude',\n",
    "    'latitude',\n",
    "] + [c for c in df.columns if 'surface_' in c]\n",
    "df.loc[:, to_cast] = df.loc[:, to_cast].astype(float)\n",
    "df"
   ]
  },
  {
   "cell_type": "code",
   "execution_count": 14,
   "id": "52c036b6",
   "metadata": {
    "scrolled": true
   },
   "outputs": [
    {
     "data": {
      "text/html": [
       "<div>\n",
       "<style scoped>\n",
       "    .dataframe tbody tr th:only-of-type {\n",
       "        vertical-align: middle;\n",
       "    }\n",
       "\n",
       "    .dataframe tbody tr th {\n",
       "        vertical-align: top;\n",
       "    }\n",
       "\n",
       "    .dataframe thead th {\n",
       "        text-align: right;\n",
       "    }\n",
       "</style>\n",
       "<table border=\"1\" class=\"dataframe\">\n",
       "  <thead>\n",
       "    <tr style=\"text-align: right;\">\n",
       "      <th></th>\n",
       "      <th>nature_mutation</th>\n",
       "      <th>code_type_local</th>\n",
       "      <th>0</th>\n",
       "    </tr>\n",
       "  </thead>\n",
       "  <tbody>\n",
       "    <tr>\n",
       "      <th>12</th>\n",
       "      <td>Adjudication</td>\n",
       "      <td>1</td>\n",
       "      <td>11723</td>\n",
       "    </tr>\n",
       "    <tr>\n",
       "      <th>14</th>\n",
       "      <td>Adjudication</td>\n",
       "      <td>2</td>\n",
       "      <td>11330</td>\n",
       "    </tr>\n",
       "    <tr>\n",
       "      <th>16</th>\n",
       "      <td>Adjudication</td>\n",
       "      <td>3</td>\n",
       "      <td>8076</td>\n",
       "    </tr>\n",
       "    <tr>\n",
       "      <th>20</th>\n",
       "      <td>Adjudication</td>\n",
       "      <td>4</td>\n",
       "      <td>3680</td>\n",
       "    </tr>\n",
       "    <tr>\n",
       "      <th>11</th>\n",
       "      <td>Adjudication</td>\n",
       "      <td>NaN</td>\n",
       "      <td>15784</td>\n",
       "    </tr>\n",
       "    <tr>\n",
       "      <th>19</th>\n",
       "      <td>Echange</td>\n",
       "      <td>1</td>\n",
       "      <td>6232</td>\n",
       "    </tr>\n",
       "    <tr>\n",
       "      <th>18</th>\n",
       "      <td>Echange</td>\n",
       "      <td>2</td>\n",
       "      <td>6537</td>\n",
       "    </tr>\n",
       "    <tr>\n",
       "      <th>15</th>\n",
       "      <td>Echange</td>\n",
       "      <td>3</td>\n",
       "      <td>8485</td>\n",
       "    </tr>\n",
       "    <tr>\n",
       "      <th>21</th>\n",
       "      <td>Echange</td>\n",
       "      <td>4</td>\n",
       "      <td>2387</td>\n",
       "    </tr>\n",
       "    <tr>\n",
       "      <th>7</th>\n",
       "      <td>Echange</td>\n",
       "      <td>NaN</td>\n",
       "      <td>178148</td>\n",
       "    </tr>\n",
       "    <tr>\n",
       "      <th>29</th>\n",
       "      <td>Expropriation</td>\n",
       "      <td>1</td>\n",
       "      <td>210</td>\n",
       "    </tr>\n",
       "    <tr>\n",
       "      <th>27</th>\n",
       "      <td>Expropriation</td>\n",
       "      <td>2</td>\n",
       "      <td>481</td>\n",
       "    </tr>\n",
       "    <tr>\n",
       "      <th>26</th>\n",
       "      <td>Expropriation</td>\n",
       "      <td>3</td>\n",
       "      <td>656</td>\n",
       "    </tr>\n",
       "    <tr>\n",
       "      <th>28</th>\n",
       "      <td>Expropriation</td>\n",
       "      <td>4</td>\n",
       "      <td>281</td>\n",
       "    </tr>\n",
       "    <tr>\n",
       "      <th>13</th>\n",
       "      <td>Expropriation</td>\n",
       "      <td>NaN</td>\n",
       "      <td>11515</td>\n",
       "    </tr>\n",
       "    <tr>\n",
       "      <th>1</th>\n",
       "      <td>Vente</td>\n",
       "      <td>1</td>\n",
       "      <td>3370400</td>\n",
       "    </tr>\n",
       "    <tr>\n",
       "      <th>2</th>\n",
       "      <td>Vente</td>\n",
       "      <td>2</td>\n",
       "      <td>2507651</td>\n",
       "    </tr>\n",
       "    <tr>\n",
       "      <th>3</th>\n",
       "      <td>Vente</td>\n",
       "      <td>3</td>\n",
       "      <td>2454837</td>\n",
       "    </tr>\n",
       "    <tr>\n",
       "      <th>5</th>\n",
       "      <td>Vente</td>\n",
       "      <td>4</td>\n",
       "      <td>596426</td>\n",
       "    </tr>\n",
       "    <tr>\n",
       "      <th>0</th>\n",
       "      <td>Vente</td>\n",
       "      <td>NaN</td>\n",
       "      <td>6624935</td>\n",
       "    </tr>\n",
       "    <tr>\n",
       "      <th>17</th>\n",
       "      <td>Vente en l'état futur d'achèvement</td>\n",
       "      <td>1</td>\n",
       "      <td>7590</td>\n",
       "    </tr>\n",
       "    <tr>\n",
       "      <th>8</th>\n",
       "      <td>Vente en l'état futur d'achèvement</td>\n",
       "      <td>2</td>\n",
       "      <td>171083</td>\n",
       "    </tr>\n",
       "    <tr>\n",
       "      <th>6</th>\n",
       "      <td>Vente en l'état futur d'achèvement</td>\n",
       "      <td>3</td>\n",
       "      <td>201926</td>\n",
       "    </tr>\n",
       "    <tr>\n",
       "      <th>10</th>\n",
       "      <td>Vente en l'état futur d'achèvement</td>\n",
       "      <td>4</td>\n",
       "      <td>26077</td>\n",
       "    </tr>\n",
       "    <tr>\n",
       "      <th>4</th>\n",
       "      <td>Vente en l'état futur d'achèvement</td>\n",
       "      <td>NaN</td>\n",
       "      <td>860905</td>\n",
       "    </tr>\n",
       "    <tr>\n",
       "      <th>22</th>\n",
       "      <td>Vente terrain à bâtir</td>\n",
       "      <td>1</td>\n",
       "      <td>1619</td>\n",
       "    </tr>\n",
       "    <tr>\n",
       "      <th>24</th>\n",
       "      <td>Vente terrain à bâtir</td>\n",
       "      <td>2</td>\n",
       "      <td>918</td>\n",
       "    </tr>\n",
       "    <tr>\n",
       "      <th>25</th>\n",
       "      <td>Vente terrain à bâtir</td>\n",
       "      <td>3</td>\n",
       "      <td>827</td>\n",
       "    </tr>\n",
       "    <tr>\n",
       "      <th>23</th>\n",
       "      <td>Vente terrain à bâtir</td>\n",
       "      <td>4</td>\n",
       "      <td>982</td>\n",
       "    </tr>\n",
       "    <tr>\n",
       "      <th>9</th>\n",
       "      <td>Vente terrain à bâtir</td>\n",
       "      <td>NaN</td>\n",
       "      <td>53985</td>\n",
       "    </tr>\n",
       "  </tbody>\n",
       "</table>\n",
       "</div>"
      ],
      "text/plain": [
       "                       nature_mutation code_type_local        0\n",
       "12                        Adjudication               1    11723\n",
       "14                        Adjudication               2    11330\n",
       "16                        Adjudication               3     8076\n",
       "20                        Adjudication               4     3680\n",
       "11                        Adjudication             NaN    15784\n",
       "19                             Echange               1     6232\n",
       "18                             Echange               2     6537\n",
       "15                             Echange               3     8485\n",
       "21                             Echange               4     2387\n",
       "7                              Echange             NaN   178148\n",
       "29                       Expropriation               1      210\n",
       "27                       Expropriation               2      481\n",
       "26                       Expropriation               3      656\n",
       "28                       Expropriation               4      281\n",
       "13                       Expropriation             NaN    11515\n",
       "1                                Vente               1  3370400\n",
       "2                                Vente               2  2507651\n",
       "3                                Vente               3  2454837\n",
       "5                                Vente               4   596426\n",
       "0                                Vente             NaN  6624935\n",
       "17  Vente en l'état futur d'achèvement               1     7590\n",
       "8   Vente en l'état futur d'achèvement               2   171083\n",
       "6   Vente en l'état futur d'achèvement               3   201926\n",
       "10  Vente en l'état futur d'achèvement               4    26077\n",
       "4   Vente en l'état futur d'achèvement             NaN   860905\n",
       "22               Vente terrain à bâtir               1     1619\n",
       "24               Vente terrain à bâtir               2      918\n",
       "25               Vente terrain à bâtir               3      827\n",
       "23               Vente terrain à bâtir               4      982\n",
       "9                Vente terrain à bâtir             NaN    53985"
      ]
     },
     "execution_count": 14,
     "metadata": {},
     "output_type": "execute_result"
    }
   ],
   "source": [
    "## mutations et types de biens\n",
    "cross_list = ['nature_mutation', 'type_local']\n",
    "df[cross_list].value_counts(dropna=False).reset_index().sort_values(by=cross_list)\n",
    "\n",
    "cross_list = ['nature_mutation', 'nature_culture']\n",
    "df[cross_list].value_counts(dropna=False).reset_index().sort_values(by=cross_list)"
   ]
  },
  {
   "cell_type": "code",
   "execution_count": 25,
   "id": "6cac409b",
   "metadata": {
    "scrolled": true
   },
   "outputs": [
    {
     "name": "stdout",
     "output_type": "stream",
     "text": [
      "Pas de valeur : 0.27 %\n",
      "entre 0.1€ et 1€ : 45580\n",
      "entre 1€ et 10€ : 4422\n",
      "entre 10€ et 100€ : 28593\n",
      "entre 100€ et 1000€ : 187191\n",
      "entre 1000€ et 10000€ : 495608\n",
      "entre 10000€ et 100000€ : 2014354\n",
      "entre 100000€ et 1000000€ : 4445900\n",
      "entre 1000000€ et 10000000€ : 112885\n",
      "entre 10000000€ et 100000000€ : 5307\n",
      "entre 100000000€ et 1000000000€ : 285\n",
      "entre 1000000000€ et 10000000000€ : 4\n"
     ]
    },
    {
     "data": {
      "text/html": [
       "<div>\n",
       "<style scoped>\n",
       "    .dataframe tbody tr th:only-of-type {\n",
       "        vertical-align: middle;\n",
       "    }\n",
       "\n",
       "    .dataframe tbody tr th {\n",
       "        vertical-align: top;\n",
       "    }\n",
       "\n",
       "    .dataframe thead th {\n",
       "        text-align: right;\n",
       "    }\n",
       "</style>\n",
       "<table border=\"1\" class=\"dataframe\">\n",
       "  <thead>\n",
       "    <tr style=\"text-align: right;\">\n",
       "      <th></th>\n",
       "      <th>prix</th>\n",
       "      <th>nb</th>\n",
       "    </tr>\n",
       "  </thead>\n",
       "  <tbody>\n",
       "    <tr>\n",
       "      <th>0</th>\n",
       "      <td>1.000000e-01</td>\n",
       "      <td>218</td>\n",
       "    </tr>\n",
       "    <tr>\n",
       "      <th>1</th>\n",
       "      <td>2.500000e-01</td>\n",
       "      <td>59</td>\n",
       "    </tr>\n",
       "    <tr>\n",
       "      <th>2</th>\n",
       "      <td>5.000000e-01</td>\n",
       "      <td>45303</td>\n",
       "    </tr>\n",
       "    <tr>\n",
       "      <th>3</th>\n",
       "      <td>1.000000e+00</td>\n",
       "      <td>1750</td>\n",
       "    </tr>\n",
       "    <tr>\n",
       "      <th>4</th>\n",
       "      <td>2.500000e+00</td>\n",
       "      <td>703</td>\n",
       "    </tr>\n",
       "    <tr>\n",
       "      <th>5</th>\n",
       "      <td>5.000000e+00</td>\n",
       "      <td>1969</td>\n",
       "    </tr>\n",
       "    <tr>\n",
       "      <th>6</th>\n",
       "      <td>1.000000e+01</td>\n",
       "      <td>3739</td>\n",
       "    </tr>\n",
       "    <tr>\n",
       "      <th>7</th>\n",
       "      <td>2.500000e+01</td>\n",
       "      <td>7408</td>\n",
       "    </tr>\n",
       "    <tr>\n",
       "      <th>8</th>\n",
       "      <td>5.000000e+01</td>\n",
       "      <td>17446</td>\n",
       "    </tr>\n",
       "    <tr>\n",
       "      <th>9</th>\n",
       "      <td>1.000000e+02</td>\n",
       "      <td>33956</td>\n",
       "    </tr>\n",
       "    <tr>\n",
       "      <th>10</th>\n",
       "      <td>2.500000e+02</td>\n",
       "      <td>61999</td>\n",
       "    </tr>\n",
       "    <tr>\n",
       "      <th>11</th>\n",
       "      <td>5.000000e+02</td>\n",
       "      <td>91236</td>\n",
       "    </tr>\n",
       "    <tr>\n",
       "      <th>12</th>\n",
       "      <td>1.000000e+03</td>\n",
       "      <td>148607</td>\n",
       "    </tr>\n",
       "    <tr>\n",
       "      <th>13</th>\n",
       "      <td>2.500000e+03</td>\n",
       "      <td>163660</td>\n",
       "    </tr>\n",
       "    <tr>\n",
       "      <th>14</th>\n",
       "      <td>5.000000e+03</td>\n",
       "      <td>183341</td>\n",
       "    </tr>\n",
       "    <tr>\n",
       "      <th>15</th>\n",
       "      <td>1.000000e+04</td>\n",
       "      <td>370230</td>\n",
       "    </tr>\n",
       "    <tr>\n",
       "      <th>16</th>\n",
       "      <td>2.500000e+04</td>\n",
       "      <td>512874</td>\n",
       "    </tr>\n",
       "    <tr>\n",
       "      <th>17</th>\n",
       "      <td>5.000000e+04</td>\n",
       "      <td>1131250</td>\n",
       "    </tr>\n",
       "    <tr>\n",
       "      <th>18</th>\n",
       "      <td>1.000000e+05</td>\n",
       "      <td>2862253</td>\n",
       "    </tr>\n",
       "    <tr>\n",
       "      <th>19</th>\n",
       "      <td>2.500000e+05</td>\n",
       "      <td>1262365</td>\n",
       "    </tr>\n",
       "    <tr>\n",
       "      <th>20</th>\n",
       "      <td>5.000000e+05</td>\n",
       "      <td>321282</td>\n",
       "    </tr>\n",
       "    <tr>\n",
       "      <th>21</th>\n",
       "      <td>1.000000e+06</td>\n",
       "      <td>88421</td>\n",
       "    </tr>\n",
       "    <tr>\n",
       "      <th>22</th>\n",
       "      <td>2.500000e+06</td>\n",
       "      <td>17039</td>\n",
       "    </tr>\n",
       "    <tr>\n",
       "      <th>23</th>\n",
       "      <td>5.000000e+06</td>\n",
       "      <td>7425</td>\n",
       "    </tr>\n",
       "    <tr>\n",
       "      <th>24</th>\n",
       "      <td>1.000000e+07</td>\n",
       "      <td>3814</td>\n",
       "    </tr>\n",
       "    <tr>\n",
       "      <th>25</th>\n",
       "      <td>2.500000e+07</td>\n",
       "      <td>1069</td>\n",
       "    </tr>\n",
       "    <tr>\n",
       "      <th>26</th>\n",
       "      <td>5.000000e+07</td>\n",
       "      <td>424</td>\n",
       "    </tr>\n",
       "    <tr>\n",
       "      <th>27</th>\n",
       "      <td>1.000000e+08</td>\n",
       "      <td>227</td>\n",
       "    </tr>\n",
       "    <tr>\n",
       "      <th>28</th>\n",
       "      <td>2.500000e+08</td>\n",
       "      <td>48</td>\n",
       "    </tr>\n",
       "    <tr>\n",
       "      <th>29</th>\n",
       "      <td>5.000000e+08</td>\n",
       "      <td>10</td>\n",
       "    </tr>\n",
       "    <tr>\n",
       "      <th>30</th>\n",
       "      <td>1.000000e+09</td>\n",
       "      <td>4</td>\n",
       "    </tr>\n",
       "    <tr>\n",
       "      <th>31</th>\n",
       "      <td>2.500000e+09</td>\n",
       "      <td>0</td>\n",
       "    </tr>\n",
       "    <tr>\n",
       "      <th>32</th>\n",
       "      <td>5.000000e+09</td>\n",
       "      <td>0</td>\n",
       "    </tr>\n",
       "  </tbody>\n",
       "</table>\n",
       "</div>"
      ],
      "text/plain": [
       "            prix       nb\n",
       "0   1.000000e-01      218\n",
       "1   2.500000e-01       59\n",
       "2   5.000000e-01    45303\n",
       "3   1.000000e+00     1750\n",
       "4   2.500000e+00      703\n",
       "5   5.000000e+00     1969\n",
       "6   1.000000e+01     3739\n",
       "7   2.500000e+01     7408\n",
       "8   5.000000e+01    17446\n",
       "9   1.000000e+02    33956\n",
       "10  2.500000e+02    61999\n",
       "11  5.000000e+02    91236\n",
       "12  1.000000e+03   148607\n",
       "13  2.500000e+03   163660\n",
       "14  5.000000e+03   183341\n",
       "15  1.000000e+04   370230\n",
       "16  2.500000e+04   512874\n",
       "17  5.000000e+04  1131250\n",
       "18  1.000000e+05  2862253\n",
       "19  2.500000e+05  1262365\n",
       "20  5.000000e+05   321282\n",
       "21  1.000000e+06    88421\n",
       "22  2.500000e+06    17039\n",
       "23  5.000000e+06     7425\n",
       "24  1.000000e+07     3814\n",
       "25  2.500000e+07     1069\n",
       "26  5.000000e+07      424\n",
       "27  1.000000e+08      227\n",
       "28  2.500000e+08       48\n",
       "29  5.000000e+08       10\n",
       "30  1.000000e+09        4\n",
       "31  2.500000e+09        0\n",
       "32  5.000000e+09        0"
      ]
     },
     "execution_count": 25,
     "metadata": {},
     "output_type": "execute_result"
    }
   ],
   "source": [
    "## répartition des valeurs\n",
    "## on sort les doublons de mutations pour ne pas biaiser avec les mutations\n",
    "# df_prix = df.drop_duplicates(subset='id_mutation')\n",
    "print(\"Pas de valeur :\", round(len(df_prix.loc[df_prix['valeur_fonciere'].isna()])/len(df_prix)*100, 2), \"%\")\n",
    "repartition={}\n",
    "for k in range(0, 11):\n",
    "    repartition[10**(k-1)]= len(df_prix.loc[df_prix['valeur_fonciere'].between(10**(k-1), (10**k)/4, inclusive='right')])\n",
    "    repartition[(10**k)/4]= len(df_prix.loc[df_prix['valeur_fonciere'].between((10**k)/4, (10**k)/2, inclusive='right')])\n",
    "    repartition[(10**k)/2]= len(df_prix.loc[df_prix['valeur_fonciere'].between((10**k)/2, 10**k, inclusive='right')])\n",
    "    print(f'entre {10**(k-1)}€ et {10**k}€ :', repartition[10**(k-1)]+repartition[(10**k)/4]+repartition[(10**k)/2])\n",
    "df_rep = pd.DataFrame({'prix': repartition.keys(), 'nb': repartition.values()})\n",
    "df_rep"
   ]
  },
  {
   "cell_type": "code",
   "execution_count": 27,
   "id": "e8adaeea",
   "metadata": {
    "scrolled": false
   },
   "outputs": [
    {
     "data": {
      "application/vnd.plotly.v1+json": {
       "config": {
        "plotlyServerURL": "https://plot.ly"
       },
       "data": [
        {
         "type": "bar",
         "width": [
          0.05,
          0.125,
          0.25,
          0.5,
          1.25,
          2.5,
          5,
          12.5,
          25,
          50,
          125,
          250,
          500,
          1250,
          2500,
          5000,
          12500,
          25000,
          50000,
          125000,
          250000,
          500000,
          1250000,
          2500000,
          5000000,
          12500000,
          25000000,
          50000000,
          125000000,
          250000000,
          500000000,
          1250000000,
          2500000000
         ],
         "x": [
          0.1,
          0.25,
          0.5,
          1,
          2.5,
          5,
          10,
          25,
          50,
          100,
          250,
          500,
          1000,
          2500,
          5000,
          10000,
          25000,
          50000,
          100000,
          250000,
          500000,
          1000000,
          2500000,
          5000000,
          10000000,
          25000000,
          50000000,
          100000000,
          250000000,
          500000000,
          1000000000,
          2500000000,
          5000000000
         ],
         "y": [
          218,
          59,
          45303,
          1750,
          703,
          1969,
          3739,
          7408,
          17446,
          33956,
          61999,
          91236,
          148607,
          163660,
          183341,
          370230,
          512874,
          1131250,
          2862253,
          1262365,
          321282,
          88421,
          17039,
          7425,
          3814,
          1069,
          424,
          227,
          48,
          10,
          4,
          0,
          0
         ]
        }
       ],
       "layout": {
        "template": {
         "data": {
          "bar": [
           {
            "error_x": {
             "color": "#2a3f5f"
            },
            "error_y": {
             "color": "#2a3f5f"
            },
            "marker": {
             "line": {
              "color": "#E5ECF6",
              "width": 0.5
             },
             "pattern": {
              "fillmode": "overlay",
              "size": 10,
              "solidity": 0.2
             }
            },
            "type": "bar"
           }
          ],
          "barpolar": [
           {
            "marker": {
             "line": {
              "color": "#E5ECF6",
              "width": 0.5
             },
             "pattern": {
              "fillmode": "overlay",
              "size": 10,
              "solidity": 0.2
             }
            },
            "type": "barpolar"
           }
          ],
          "carpet": [
           {
            "aaxis": {
             "endlinecolor": "#2a3f5f",
             "gridcolor": "white",
             "linecolor": "white",
             "minorgridcolor": "white",
             "startlinecolor": "#2a3f5f"
            },
            "baxis": {
             "endlinecolor": "#2a3f5f",
             "gridcolor": "white",
             "linecolor": "white",
             "minorgridcolor": "white",
             "startlinecolor": "#2a3f5f"
            },
            "type": "carpet"
           }
          ],
          "choropleth": [
           {
            "colorbar": {
             "outlinewidth": 0,
             "ticks": ""
            },
            "type": "choropleth"
           }
          ],
          "contour": [
           {
            "colorbar": {
             "outlinewidth": 0,
             "ticks": ""
            },
            "colorscale": [
             [
              0,
              "#0d0887"
             ],
             [
              0.1111111111111111,
              "#46039f"
             ],
             [
              0.2222222222222222,
              "#7201a8"
             ],
             [
              0.3333333333333333,
              "#9c179e"
             ],
             [
              0.4444444444444444,
              "#bd3786"
             ],
             [
              0.5555555555555556,
              "#d8576b"
             ],
             [
              0.6666666666666666,
              "#ed7953"
             ],
             [
              0.7777777777777778,
              "#fb9f3a"
             ],
             [
              0.8888888888888888,
              "#fdca26"
             ],
             [
              1,
              "#f0f921"
             ]
            ],
            "type": "contour"
           }
          ],
          "contourcarpet": [
           {
            "colorbar": {
             "outlinewidth": 0,
             "ticks": ""
            },
            "type": "contourcarpet"
           }
          ],
          "heatmap": [
           {
            "colorbar": {
             "outlinewidth": 0,
             "ticks": ""
            },
            "colorscale": [
             [
              0,
              "#0d0887"
             ],
             [
              0.1111111111111111,
              "#46039f"
             ],
             [
              0.2222222222222222,
              "#7201a8"
             ],
             [
              0.3333333333333333,
              "#9c179e"
             ],
             [
              0.4444444444444444,
              "#bd3786"
             ],
             [
              0.5555555555555556,
              "#d8576b"
             ],
             [
              0.6666666666666666,
              "#ed7953"
             ],
             [
              0.7777777777777778,
              "#fb9f3a"
             ],
             [
              0.8888888888888888,
              "#fdca26"
             ],
             [
              1,
              "#f0f921"
             ]
            ],
            "type": "heatmap"
           }
          ],
          "heatmapgl": [
           {
            "colorbar": {
             "outlinewidth": 0,
             "ticks": ""
            },
            "colorscale": [
             [
              0,
              "#0d0887"
             ],
             [
              0.1111111111111111,
              "#46039f"
             ],
             [
              0.2222222222222222,
              "#7201a8"
             ],
             [
              0.3333333333333333,
              "#9c179e"
             ],
             [
              0.4444444444444444,
              "#bd3786"
             ],
             [
              0.5555555555555556,
              "#d8576b"
             ],
             [
              0.6666666666666666,
              "#ed7953"
             ],
             [
              0.7777777777777778,
              "#fb9f3a"
             ],
             [
              0.8888888888888888,
              "#fdca26"
             ],
             [
              1,
              "#f0f921"
             ]
            ],
            "type": "heatmapgl"
           }
          ],
          "histogram": [
           {
            "marker": {
             "pattern": {
              "fillmode": "overlay",
              "size": 10,
              "solidity": 0.2
             }
            },
            "type": "histogram"
           }
          ],
          "histogram2d": [
           {
            "colorbar": {
             "outlinewidth": 0,
             "ticks": ""
            },
            "colorscale": [
             [
              0,
              "#0d0887"
             ],
             [
              0.1111111111111111,
              "#46039f"
             ],
             [
              0.2222222222222222,
              "#7201a8"
             ],
             [
              0.3333333333333333,
              "#9c179e"
             ],
             [
              0.4444444444444444,
              "#bd3786"
             ],
             [
              0.5555555555555556,
              "#d8576b"
             ],
             [
              0.6666666666666666,
              "#ed7953"
             ],
             [
              0.7777777777777778,
              "#fb9f3a"
             ],
             [
              0.8888888888888888,
              "#fdca26"
             ],
             [
              1,
              "#f0f921"
             ]
            ],
            "type": "histogram2d"
           }
          ],
          "histogram2dcontour": [
           {
            "colorbar": {
             "outlinewidth": 0,
             "ticks": ""
            },
            "colorscale": [
             [
              0,
              "#0d0887"
             ],
             [
              0.1111111111111111,
              "#46039f"
             ],
             [
              0.2222222222222222,
              "#7201a8"
             ],
             [
              0.3333333333333333,
              "#9c179e"
             ],
             [
              0.4444444444444444,
              "#bd3786"
             ],
             [
              0.5555555555555556,
              "#d8576b"
             ],
             [
              0.6666666666666666,
              "#ed7953"
             ],
             [
              0.7777777777777778,
              "#fb9f3a"
             ],
             [
              0.8888888888888888,
              "#fdca26"
             ],
             [
              1,
              "#f0f921"
             ]
            ],
            "type": "histogram2dcontour"
           }
          ],
          "mesh3d": [
           {
            "colorbar": {
             "outlinewidth": 0,
             "ticks": ""
            },
            "type": "mesh3d"
           }
          ],
          "parcoords": [
           {
            "line": {
             "colorbar": {
              "outlinewidth": 0,
              "ticks": ""
             }
            },
            "type": "parcoords"
           }
          ],
          "pie": [
           {
            "automargin": true,
            "type": "pie"
           }
          ],
          "scatter": [
           {
            "fillpattern": {
             "fillmode": "overlay",
             "size": 10,
             "solidity": 0.2
            },
            "type": "scatter"
           }
          ],
          "scatter3d": [
           {
            "line": {
             "colorbar": {
              "outlinewidth": 0,
              "ticks": ""
             }
            },
            "marker": {
             "colorbar": {
              "outlinewidth": 0,
              "ticks": ""
             }
            },
            "type": "scatter3d"
           }
          ],
          "scattercarpet": [
           {
            "marker": {
             "colorbar": {
              "outlinewidth": 0,
              "ticks": ""
             }
            },
            "type": "scattercarpet"
           }
          ],
          "scattergeo": [
           {
            "marker": {
             "colorbar": {
              "outlinewidth": 0,
              "ticks": ""
             }
            },
            "type": "scattergeo"
           }
          ],
          "scattergl": [
           {
            "marker": {
             "colorbar": {
              "outlinewidth": 0,
              "ticks": ""
             }
            },
            "type": "scattergl"
           }
          ],
          "scattermapbox": [
           {
            "marker": {
             "colorbar": {
              "outlinewidth": 0,
              "ticks": ""
             }
            },
            "type": "scattermapbox"
           }
          ],
          "scatterpolar": [
           {
            "marker": {
             "colorbar": {
              "outlinewidth": 0,
              "ticks": ""
             }
            },
            "type": "scatterpolar"
           }
          ],
          "scatterpolargl": [
           {
            "marker": {
             "colorbar": {
              "outlinewidth": 0,
              "ticks": ""
             }
            },
            "type": "scatterpolargl"
           }
          ],
          "scatterternary": [
           {
            "marker": {
             "colorbar": {
              "outlinewidth": 0,
              "ticks": ""
             }
            },
            "type": "scatterternary"
           }
          ],
          "surface": [
           {
            "colorbar": {
             "outlinewidth": 0,
             "ticks": ""
            },
            "colorscale": [
             [
              0,
              "#0d0887"
             ],
             [
              0.1111111111111111,
              "#46039f"
             ],
             [
              0.2222222222222222,
              "#7201a8"
             ],
             [
              0.3333333333333333,
              "#9c179e"
             ],
             [
              0.4444444444444444,
              "#bd3786"
             ],
             [
              0.5555555555555556,
              "#d8576b"
             ],
             [
              0.6666666666666666,
              "#ed7953"
             ],
             [
              0.7777777777777778,
              "#fb9f3a"
             ],
             [
              0.8888888888888888,
              "#fdca26"
             ],
             [
              1,
              "#f0f921"
             ]
            ],
            "type": "surface"
           }
          ],
          "table": [
           {
            "cells": {
             "fill": {
              "color": "#EBF0F8"
             },
             "line": {
              "color": "white"
             }
            },
            "header": {
             "fill": {
              "color": "#C8D4E3"
             },
             "line": {
              "color": "white"
             }
            },
            "type": "table"
           }
          ]
         },
         "layout": {
          "annotationdefaults": {
           "arrowcolor": "#2a3f5f",
           "arrowhead": 0,
           "arrowwidth": 1
          },
          "autotypenumbers": "strict",
          "coloraxis": {
           "colorbar": {
            "outlinewidth": 0,
            "ticks": ""
           }
          },
          "colorscale": {
           "diverging": [
            [
             0,
             "#8e0152"
            ],
            [
             0.1,
             "#c51b7d"
            ],
            [
             0.2,
             "#de77ae"
            ],
            [
             0.3,
             "#f1b6da"
            ],
            [
             0.4,
             "#fde0ef"
            ],
            [
             0.5,
             "#f7f7f7"
            ],
            [
             0.6,
             "#e6f5d0"
            ],
            [
             0.7,
             "#b8e186"
            ],
            [
             0.8,
             "#7fbc41"
            ],
            [
             0.9,
             "#4d9221"
            ],
            [
             1,
             "#276419"
            ]
           ],
           "sequential": [
            [
             0,
             "#0d0887"
            ],
            [
             0.1111111111111111,
             "#46039f"
            ],
            [
             0.2222222222222222,
             "#7201a8"
            ],
            [
             0.3333333333333333,
             "#9c179e"
            ],
            [
             0.4444444444444444,
             "#bd3786"
            ],
            [
             0.5555555555555556,
             "#d8576b"
            ],
            [
             0.6666666666666666,
             "#ed7953"
            ],
            [
             0.7777777777777778,
             "#fb9f3a"
            ],
            [
             0.8888888888888888,
             "#fdca26"
            ],
            [
             1,
             "#f0f921"
            ]
           ],
           "sequentialminus": [
            [
             0,
             "#0d0887"
            ],
            [
             0.1111111111111111,
             "#46039f"
            ],
            [
             0.2222222222222222,
             "#7201a8"
            ],
            [
             0.3333333333333333,
             "#9c179e"
            ],
            [
             0.4444444444444444,
             "#bd3786"
            ],
            [
             0.5555555555555556,
             "#d8576b"
            ],
            [
             0.6666666666666666,
             "#ed7953"
            ],
            [
             0.7777777777777778,
             "#fb9f3a"
            ],
            [
             0.8888888888888888,
             "#fdca26"
            ],
            [
             1,
             "#f0f921"
            ]
           ]
          },
          "colorway": [
           "#636efa",
           "#EF553B",
           "#00cc96",
           "#ab63fa",
           "#FFA15A",
           "#19d3f3",
           "#FF6692",
           "#B6E880",
           "#FF97FF",
           "#FECB52"
          ],
          "font": {
           "color": "#2a3f5f"
          },
          "geo": {
           "bgcolor": "white",
           "lakecolor": "white",
           "landcolor": "#E5ECF6",
           "showlakes": true,
           "showland": true,
           "subunitcolor": "white"
          },
          "hoverlabel": {
           "align": "left"
          },
          "hovermode": "closest",
          "mapbox": {
           "style": "light"
          },
          "paper_bgcolor": "white",
          "plot_bgcolor": "#E5ECF6",
          "polar": {
           "angularaxis": {
            "gridcolor": "white",
            "linecolor": "white",
            "ticks": ""
           },
           "bgcolor": "#E5ECF6",
           "radialaxis": {
            "gridcolor": "white",
            "linecolor": "white",
            "ticks": ""
           }
          },
          "scene": {
           "xaxis": {
            "backgroundcolor": "#E5ECF6",
            "gridcolor": "white",
            "gridwidth": 2,
            "linecolor": "white",
            "showbackground": true,
            "ticks": "",
            "zerolinecolor": "white"
           },
           "yaxis": {
            "backgroundcolor": "#E5ECF6",
            "gridcolor": "white",
            "gridwidth": 2,
            "linecolor": "white",
            "showbackground": true,
            "ticks": "",
            "zerolinecolor": "white"
           },
           "zaxis": {
            "backgroundcolor": "#E5ECF6",
            "gridcolor": "white",
            "gridwidth": 2,
            "linecolor": "white",
            "showbackground": true,
            "ticks": "",
            "zerolinecolor": "white"
           }
          },
          "shapedefaults": {
           "line": {
            "color": "#2a3f5f"
           }
          },
          "ternary": {
           "aaxis": {
            "gridcolor": "white",
            "linecolor": "white",
            "ticks": ""
           },
           "baxis": {
            "gridcolor": "white",
            "linecolor": "white",
            "ticks": ""
           },
           "bgcolor": "#E5ECF6",
           "caxis": {
            "gridcolor": "white",
            "linecolor": "white",
            "ticks": ""
           }
          },
          "title": {
           "x": 0.05
          },
          "xaxis": {
           "automargin": true,
           "gridcolor": "white",
           "linecolor": "white",
           "ticks": "",
           "title": {
            "standoff": 15
           },
           "zerolinecolor": "white",
           "zerolinewidth": 2
          },
          "yaxis": {
           "automargin": true,
           "gridcolor": "white",
           "linecolor": "white",
           "ticks": "",
           "title": {
            "standoff": 15
           },
           "zerolinecolor": "white",
           "zerolinewidth": 2
          }
         }
        },
        "xaxis": {
         "type": "log"
        },
        "yaxis": {
         "type": "log"
        }
       }
      },
      "text/html": [
       "<div>                            <div id=\"226e7475-80a5-4889-b6ac-f1856411f7e0\" class=\"plotly-graph-div\" style=\"height:525px; width:100%;\"></div>            <script type=\"text/javascript\">                require([\"plotly\"], function(Plotly) {                    window.PLOTLYENV=window.PLOTLYENV || {};                                    if (document.getElementById(\"226e7475-80a5-4889-b6ac-f1856411f7e0\")) {                    Plotly.newPlot(                        \"226e7475-80a5-4889-b6ac-f1856411f7e0\",                        [{\"width\":[0.05,0.125,0.25,0.5,1.25,2.5,5.0,12.5,25.0,50.0,125.0,250.0,500.0,1250.0,2500.0,5000.0,12500.0,25000.0,50000.0,125000.0,250000.0,500000.0,1250000.0,2500000.0,5000000.0,12500000.0,25000000.0,50000000.0,125000000.0,250000000.0,500000000.0,1250000000.0,2500000000.0],\"x\":[0.1,0.25,0.5,1.0,2.5,5.0,10.0,25.0,50.0,100.0,250.0,500.0,1000.0,2500.0,5000.0,10000.0,25000.0,50000.0,100000.0,250000.0,500000.0,1000000.0,2500000.0,5000000.0,10000000.0,25000000.0,50000000.0,100000000.0,250000000.0,500000000.0,1000000000.0,2500000000.0,5000000000.0],\"y\":[218,59,45303,1750,703,1969,3739,7408,17446,33956,61999,91236,148607,163660,183341,370230,512874,1131250,2862253,1262365,321282,88421,17039,7425,3814,1069,424,227,48,10,4,0,0],\"type\":\"bar\"}],                        {\"template\":{\"data\":{\"histogram2dcontour\":[{\"type\":\"histogram2dcontour\",\"colorbar\":{\"outlinewidth\":0,\"ticks\":\"\"},\"colorscale\":[[0.0,\"#0d0887\"],[0.1111111111111111,\"#46039f\"],[0.2222222222222222,\"#7201a8\"],[0.3333333333333333,\"#9c179e\"],[0.4444444444444444,\"#bd3786\"],[0.5555555555555556,\"#d8576b\"],[0.6666666666666666,\"#ed7953\"],[0.7777777777777778,\"#fb9f3a\"],[0.8888888888888888,\"#fdca26\"],[1.0,\"#f0f921\"]]}],\"choropleth\":[{\"type\":\"choropleth\",\"colorbar\":{\"outlinewidth\":0,\"ticks\":\"\"}}],\"histogram2d\":[{\"type\":\"histogram2d\",\"colorbar\":{\"outlinewidth\":0,\"ticks\":\"\"},\"colorscale\":[[0.0,\"#0d0887\"],[0.1111111111111111,\"#46039f\"],[0.2222222222222222,\"#7201a8\"],[0.3333333333333333,\"#9c179e\"],[0.4444444444444444,\"#bd3786\"],[0.5555555555555556,\"#d8576b\"],[0.6666666666666666,\"#ed7953\"],[0.7777777777777778,\"#fb9f3a\"],[0.8888888888888888,\"#fdca26\"],[1.0,\"#f0f921\"]]}],\"heatmap\":[{\"type\":\"heatmap\",\"colorbar\":{\"outlinewidth\":0,\"ticks\":\"\"},\"colorscale\":[[0.0,\"#0d0887\"],[0.1111111111111111,\"#46039f\"],[0.2222222222222222,\"#7201a8\"],[0.3333333333333333,\"#9c179e\"],[0.4444444444444444,\"#bd3786\"],[0.5555555555555556,\"#d8576b\"],[0.6666666666666666,\"#ed7953\"],[0.7777777777777778,\"#fb9f3a\"],[0.8888888888888888,\"#fdca26\"],[1.0,\"#f0f921\"]]}],\"heatmapgl\":[{\"type\":\"heatmapgl\",\"colorbar\":{\"outlinewidth\":0,\"ticks\":\"\"},\"colorscale\":[[0.0,\"#0d0887\"],[0.1111111111111111,\"#46039f\"],[0.2222222222222222,\"#7201a8\"],[0.3333333333333333,\"#9c179e\"],[0.4444444444444444,\"#bd3786\"],[0.5555555555555556,\"#d8576b\"],[0.6666666666666666,\"#ed7953\"],[0.7777777777777778,\"#fb9f3a\"],[0.8888888888888888,\"#fdca26\"],[1.0,\"#f0f921\"]]}],\"contourcarpet\":[{\"type\":\"contourcarpet\",\"colorbar\":{\"outlinewidth\":0,\"ticks\":\"\"}}],\"contour\":[{\"type\":\"contour\",\"colorbar\":{\"outlinewidth\":0,\"ticks\":\"\"},\"colorscale\":[[0.0,\"#0d0887\"],[0.1111111111111111,\"#46039f\"],[0.2222222222222222,\"#7201a8\"],[0.3333333333333333,\"#9c179e\"],[0.4444444444444444,\"#bd3786\"],[0.5555555555555556,\"#d8576b\"],[0.6666666666666666,\"#ed7953\"],[0.7777777777777778,\"#fb9f3a\"],[0.8888888888888888,\"#fdca26\"],[1.0,\"#f0f921\"]]}],\"surface\":[{\"type\":\"surface\",\"colorbar\":{\"outlinewidth\":0,\"ticks\":\"\"},\"colorscale\":[[0.0,\"#0d0887\"],[0.1111111111111111,\"#46039f\"],[0.2222222222222222,\"#7201a8\"],[0.3333333333333333,\"#9c179e\"],[0.4444444444444444,\"#bd3786\"],[0.5555555555555556,\"#d8576b\"],[0.6666666666666666,\"#ed7953\"],[0.7777777777777778,\"#fb9f3a\"],[0.8888888888888888,\"#fdca26\"],[1.0,\"#f0f921\"]]}],\"mesh3d\":[{\"type\":\"mesh3d\",\"colorbar\":{\"outlinewidth\":0,\"ticks\":\"\"}}],\"scatter\":[{\"fillpattern\":{\"fillmode\":\"overlay\",\"size\":10,\"solidity\":0.2},\"type\":\"scatter\"}],\"parcoords\":[{\"type\":\"parcoords\",\"line\":{\"colorbar\":{\"outlinewidth\":0,\"ticks\":\"\"}}}],\"scatterpolargl\":[{\"type\":\"scatterpolargl\",\"marker\":{\"colorbar\":{\"outlinewidth\":0,\"ticks\":\"\"}}}],\"bar\":[{\"error_x\":{\"color\":\"#2a3f5f\"},\"error_y\":{\"color\":\"#2a3f5f\"},\"marker\":{\"line\":{\"color\":\"#E5ECF6\",\"width\":0.5},\"pattern\":{\"fillmode\":\"overlay\",\"size\":10,\"solidity\":0.2}},\"type\":\"bar\"}],\"scattergeo\":[{\"type\":\"scattergeo\",\"marker\":{\"colorbar\":{\"outlinewidth\":0,\"ticks\":\"\"}}}],\"scatterpolar\":[{\"type\":\"scatterpolar\",\"marker\":{\"colorbar\":{\"outlinewidth\":0,\"ticks\":\"\"}}}],\"histogram\":[{\"marker\":{\"pattern\":{\"fillmode\":\"overlay\",\"size\":10,\"solidity\":0.2}},\"type\":\"histogram\"}],\"scattergl\":[{\"type\":\"scattergl\",\"marker\":{\"colorbar\":{\"outlinewidth\":0,\"ticks\":\"\"}}}],\"scatter3d\":[{\"type\":\"scatter3d\",\"line\":{\"colorbar\":{\"outlinewidth\":0,\"ticks\":\"\"}},\"marker\":{\"colorbar\":{\"outlinewidth\":0,\"ticks\":\"\"}}}],\"scattermapbox\":[{\"type\":\"scattermapbox\",\"marker\":{\"colorbar\":{\"outlinewidth\":0,\"ticks\":\"\"}}}],\"scatterternary\":[{\"type\":\"scatterternary\",\"marker\":{\"colorbar\":{\"outlinewidth\":0,\"ticks\":\"\"}}}],\"scattercarpet\":[{\"type\":\"scattercarpet\",\"marker\":{\"colorbar\":{\"outlinewidth\":0,\"ticks\":\"\"}}}],\"carpet\":[{\"aaxis\":{\"endlinecolor\":\"#2a3f5f\",\"gridcolor\":\"white\",\"linecolor\":\"white\",\"minorgridcolor\":\"white\",\"startlinecolor\":\"#2a3f5f\"},\"baxis\":{\"endlinecolor\":\"#2a3f5f\",\"gridcolor\":\"white\",\"linecolor\":\"white\",\"minorgridcolor\":\"white\",\"startlinecolor\":\"#2a3f5f\"},\"type\":\"carpet\"}],\"table\":[{\"cells\":{\"fill\":{\"color\":\"#EBF0F8\"},\"line\":{\"color\":\"white\"}},\"header\":{\"fill\":{\"color\":\"#C8D4E3\"},\"line\":{\"color\":\"white\"}},\"type\":\"table\"}],\"barpolar\":[{\"marker\":{\"line\":{\"color\":\"#E5ECF6\",\"width\":0.5},\"pattern\":{\"fillmode\":\"overlay\",\"size\":10,\"solidity\":0.2}},\"type\":\"barpolar\"}],\"pie\":[{\"automargin\":true,\"type\":\"pie\"}]},\"layout\":{\"autotypenumbers\":\"strict\",\"colorway\":[\"#636efa\",\"#EF553B\",\"#00cc96\",\"#ab63fa\",\"#FFA15A\",\"#19d3f3\",\"#FF6692\",\"#B6E880\",\"#FF97FF\",\"#FECB52\"],\"font\":{\"color\":\"#2a3f5f\"},\"hovermode\":\"closest\",\"hoverlabel\":{\"align\":\"left\"},\"paper_bgcolor\":\"white\",\"plot_bgcolor\":\"#E5ECF6\",\"polar\":{\"bgcolor\":\"#E5ECF6\",\"angularaxis\":{\"gridcolor\":\"white\",\"linecolor\":\"white\",\"ticks\":\"\"},\"radialaxis\":{\"gridcolor\":\"white\",\"linecolor\":\"white\",\"ticks\":\"\"}},\"ternary\":{\"bgcolor\":\"#E5ECF6\",\"aaxis\":{\"gridcolor\":\"white\",\"linecolor\":\"white\",\"ticks\":\"\"},\"baxis\":{\"gridcolor\":\"white\",\"linecolor\":\"white\",\"ticks\":\"\"},\"caxis\":{\"gridcolor\":\"white\",\"linecolor\":\"white\",\"ticks\":\"\"}},\"coloraxis\":{\"colorbar\":{\"outlinewidth\":0,\"ticks\":\"\"}},\"colorscale\":{\"sequential\":[[0.0,\"#0d0887\"],[0.1111111111111111,\"#46039f\"],[0.2222222222222222,\"#7201a8\"],[0.3333333333333333,\"#9c179e\"],[0.4444444444444444,\"#bd3786\"],[0.5555555555555556,\"#d8576b\"],[0.6666666666666666,\"#ed7953\"],[0.7777777777777778,\"#fb9f3a\"],[0.8888888888888888,\"#fdca26\"],[1.0,\"#f0f921\"]],\"sequentialminus\":[[0.0,\"#0d0887\"],[0.1111111111111111,\"#46039f\"],[0.2222222222222222,\"#7201a8\"],[0.3333333333333333,\"#9c179e\"],[0.4444444444444444,\"#bd3786\"],[0.5555555555555556,\"#d8576b\"],[0.6666666666666666,\"#ed7953\"],[0.7777777777777778,\"#fb9f3a\"],[0.8888888888888888,\"#fdca26\"],[1.0,\"#f0f921\"]],\"diverging\":[[0,\"#8e0152\"],[0.1,\"#c51b7d\"],[0.2,\"#de77ae\"],[0.3,\"#f1b6da\"],[0.4,\"#fde0ef\"],[0.5,\"#f7f7f7\"],[0.6,\"#e6f5d0\"],[0.7,\"#b8e186\"],[0.8,\"#7fbc41\"],[0.9,\"#4d9221\"],[1,\"#276419\"]]},\"xaxis\":{\"gridcolor\":\"white\",\"linecolor\":\"white\",\"ticks\":\"\",\"title\":{\"standoff\":15},\"zerolinecolor\":\"white\",\"automargin\":true,\"zerolinewidth\":2},\"yaxis\":{\"gridcolor\":\"white\",\"linecolor\":\"white\",\"ticks\":\"\",\"title\":{\"standoff\":15},\"zerolinecolor\":\"white\",\"automargin\":true,\"zerolinewidth\":2},\"scene\":{\"xaxis\":{\"backgroundcolor\":\"#E5ECF6\",\"gridcolor\":\"white\",\"linecolor\":\"white\",\"showbackground\":true,\"ticks\":\"\",\"zerolinecolor\":\"white\",\"gridwidth\":2},\"yaxis\":{\"backgroundcolor\":\"#E5ECF6\",\"gridcolor\":\"white\",\"linecolor\":\"white\",\"showbackground\":true,\"ticks\":\"\",\"zerolinecolor\":\"white\",\"gridwidth\":2},\"zaxis\":{\"backgroundcolor\":\"#E5ECF6\",\"gridcolor\":\"white\",\"linecolor\":\"white\",\"showbackground\":true,\"ticks\":\"\",\"zerolinecolor\":\"white\",\"gridwidth\":2}},\"shapedefaults\":{\"line\":{\"color\":\"#2a3f5f\"}},\"annotationdefaults\":{\"arrowcolor\":\"#2a3f5f\",\"arrowhead\":0,\"arrowwidth\":1},\"geo\":{\"bgcolor\":\"white\",\"landcolor\":\"#E5ECF6\",\"subunitcolor\":\"white\",\"showland\":true,\"showlakes\":true,\"lakecolor\":\"white\"},\"title\":{\"x\":0.05},\"mapbox\":{\"style\":\"light\"}}},\"xaxis\":{\"type\":\"log\"},\"yaxis\":{\"type\":\"log\"}},                        {\"responsive\": true}                    ).then(function(){\n",
       "                            \n",
       "var gd = document.getElementById('226e7475-80a5-4889-b6ac-f1856411f7e0');\n",
       "var x = new MutationObserver(function (mutations, observer) {{\n",
       "        var display = window.getComputedStyle(gd).display;\n",
       "        if (!display || display === 'none') {{\n",
       "            console.log([gd, 'removed!']);\n",
       "            Plotly.purge(gd);\n",
       "            observer.disconnect();\n",
       "        }}\n",
       "}});\n",
       "\n",
       "// Listen for the removal of the full notebook cells\n",
       "var notebookContainer = gd.closest('#notebook-container');\n",
       "if (notebookContainer) {{\n",
       "    x.observe(notebookContainer, {childList: true});\n",
       "}}\n",
       "\n",
       "// Listen for the clearing of the current output cell\n",
       "var outputEl = gd.closest('.output');\n",
       "if (outputEl) {{\n",
       "    x.observe(outputEl, {childList: true});\n",
       "}}\n",
       "\n",
       "                        })                };                });            </script>        </div>"
      ]
     },
     "metadata": {},
     "output_type": "display_data"
    }
   ],
   "source": [
    "fig = go.Figure(data=[go.Bar(\n",
    "    x=df_rep['prix'],\n",
    "    y=df_rep['nb'],\n",
    "    width=df_rep['prix']/2,\n",
    "#     tickmode = 'array',\n",
    "#     tickvals = df_rep['prix'],\n",
    "#     ticktext = [f\"{k}€\" for k in df_rep['prix']]\n",
    ")])\n",
    "fig.update_xaxes(type='log')\n",
    "fig.update_yaxes(type='log')\n",
    "fig.show()"
   ]
  },
  {
   "cell_type": "code",
   "execution_count": 70,
   "id": "99a0c8ee",
   "metadata": {},
   "outputs": [
    {
     "data": {
      "text/plain": [
       "NaN                                         1085\n",
       "Local industriel. commercial ou assimilé     338\n",
       "Appartement                                   73\n",
       "Dépendance                                    20\n",
       "Maison                                        14\n",
       "Name: type_local, dtype: int64"
      ]
     },
     "execution_count": 70,
     "metadata": {},
     "output_type": "execute_result"
    }
   ],
   "source": [
    "df.loc[df['valeur_fonciere']<1]['type_local'].value_counts(dropna=False)"
   ]
  },
  {
   "cell_type": "code",
   "execution_count": 28,
   "id": "d6d96d79",
   "metadata": {
    "scrolled": true
   },
   "outputs": [
    {
     "name": "stdout",
     "output_type": "stream",
     "text": [
      "Pas de valeur : 60.96 %\n",
      "entre 0.1m² et 1m² : 45521\n",
      "entre 1m² et 10m² : 3719\n",
      "entre 10m² et 100m² : 21185\n",
      "entre 100m² et 1000m² : 125192\n",
      "entre 1000m² et 10000m² : 331948\n",
      "entre 10000m² et 100000m² : 1501480\n",
      "entre 100000m² et 1000000m² : 3183535\n"
     ]
    },
    {
     "data": {
      "text/html": [
       "<div>\n",
       "<style scoped>\n",
       "    .dataframe tbody tr th:only-of-type {\n",
       "        vertical-align: middle;\n",
       "    }\n",
       "\n",
       "    .dataframe tbody tr th {\n",
       "        vertical-align: top;\n",
       "    }\n",
       "\n",
       "    .dataframe thead th {\n",
       "        text-align: right;\n",
       "    }\n",
       "</style>\n",
       "<table border=\"1\" class=\"dataframe\">\n",
       "  <thead>\n",
       "    <tr style=\"text-align: right;\">\n",
       "      <th></th>\n",
       "      <th>surface</th>\n",
       "      <th>nb</th>\n",
       "    </tr>\n",
       "  </thead>\n",
       "  <tbody>\n",
       "    <tr>\n",
       "      <th>0</th>\n",
       "      <td>0.1</td>\n",
       "      <td>0</td>\n",
       "    </tr>\n",
       "    <tr>\n",
       "      <th>1</th>\n",
       "      <td>0.5</td>\n",
       "      <td>1766</td>\n",
       "    </tr>\n",
       "    <tr>\n",
       "      <th>2</th>\n",
       "      <td>1.0</td>\n",
       "      <td>5631</td>\n",
       "    </tr>\n",
       "    <tr>\n",
       "      <th>3</th>\n",
       "      <td>5.0</td>\n",
       "      <td>27045</td>\n",
       "    </tr>\n",
       "    <tr>\n",
       "      <th>4</th>\n",
       "      <td>10.0</td>\n",
       "      <td>1666730</td>\n",
       "    </tr>\n",
       "    <tr>\n",
       "      <th>5</th>\n",
       "      <td>50.0</td>\n",
       "      <td>3087601</td>\n",
       "    </tr>\n",
       "    <tr>\n",
       "      <th>6</th>\n",
       "      <td>100.0</td>\n",
       "      <td>1816110</td>\n",
       "    </tr>\n",
       "    <tr>\n",
       "      <th>7</th>\n",
       "      <td>500.0</td>\n",
       "      <td>40394</td>\n",
       "    </tr>\n",
       "    <tr>\n",
       "      <th>8</th>\n",
       "      <td>1000.0</td>\n",
       "      <td>39278</td>\n",
       "    </tr>\n",
       "    <tr>\n",
       "      <th>9</th>\n",
       "      <td>5000.0</td>\n",
       "      <td>5100</td>\n",
       "    </tr>\n",
       "    <tr>\n",
       "      <th>10</th>\n",
       "      <td>10000.0</td>\n",
       "      <td>2959</td>\n",
       "    </tr>\n",
       "    <tr>\n",
       "      <th>11</th>\n",
       "      <td>50000.0</td>\n",
       "      <td>192</td>\n",
       "    </tr>\n",
       "    <tr>\n",
       "      <th>12</th>\n",
       "      <td>100000.0</td>\n",
       "      <td>66</td>\n",
       "    </tr>\n",
       "    <tr>\n",
       "      <th>13</th>\n",
       "      <td>500000.0</td>\n",
       "      <td>8</td>\n",
       "    </tr>\n",
       "  </tbody>\n",
       "</table>\n",
       "</div>"
      ],
      "text/plain": [
       "     surface       nb\n",
       "0        0.1        0\n",
       "1        0.5     1766\n",
       "2        1.0     5631\n",
       "3        5.0    27045\n",
       "4       10.0  1666730\n",
       "5       50.0  3087601\n",
       "6      100.0  1816110\n",
       "7      500.0    40394\n",
       "8     1000.0    39278\n",
       "9     5000.0     5100\n",
       "10   10000.0     2959\n",
       "11   50000.0      192\n",
       "12  100000.0       66\n",
       "13  500000.0        8"
      ]
     },
     "execution_count": 28,
     "metadata": {},
     "output_type": "execute_result"
    }
   ],
   "source": [
    "## repartition des surfaces\n",
    "print(\"Pas de valeur :\", round(len(df.loc[df['surface_reelle_bati'].isna()])/len(df)*100, 2), \"%\")\n",
    "repartition_surf={}\n",
    "for k in range(0, 7):\n",
    "    repartition_surf[10**(k-1)]= len(df.loc[df['surface_reelle_bati'].between(10**(k-1), (10**k)/2, inclusive='right')])\n",
    "    repartition_surf[(10**k)/2]= len(df.loc[df['surface_reelle_bati'].between((10**k)/2, 10**k, inclusive='right')])\n",
    "    print(f'entre {10**(k-1)}m² et {10**k}m² :', repartition[10**(k-1)]+repartition[(10**k)/2])\n",
    "df_rep_surf = pd.DataFrame({'surface': repartition_surf.keys(), 'nb': repartition_surf.values()})\n",
    "df_rep_surf"
   ]
  },
  {
   "cell_type": "code",
   "execution_count": 29,
   "id": "6004ab8d",
   "metadata": {
    "scrolled": true
   },
   "outputs": [
    {
     "data": {
      "application/vnd.plotly.v1+json": {
       "config": {
        "plotlyServerURL": "https://plot.ly"
       },
       "data": [
        {
         "type": "bar",
         "width": [
          0.05,
          0.25,
          0.5,
          2.5,
          5,
          25,
          50,
          250,
          500,
          2500,
          5000,
          25000,
          50000,
          250000
         ],
         "x": [
          0.1,
          0.5,
          1,
          5,
          10,
          50,
          100,
          500,
          1000,
          5000,
          10000,
          50000,
          100000,
          500000
         ],
         "y": [
          0,
          1766,
          5631,
          27045,
          1666730,
          3087601,
          1816110,
          40394,
          39278,
          5100,
          2959,
          192,
          66,
          8
         ]
        }
       ],
       "layout": {
        "template": {
         "data": {
          "bar": [
           {
            "error_x": {
             "color": "#2a3f5f"
            },
            "error_y": {
             "color": "#2a3f5f"
            },
            "marker": {
             "line": {
              "color": "#E5ECF6",
              "width": 0.5
             },
             "pattern": {
              "fillmode": "overlay",
              "size": 10,
              "solidity": 0.2
             }
            },
            "type": "bar"
           }
          ],
          "barpolar": [
           {
            "marker": {
             "line": {
              "color": "#E5ECF6",
              "width": 0.5
             },
             "pattern": {
              "fillmode": "overlay",
              "size": 10,
              "solidity": 0.2
             }
            },
            "type": "barpolar"
           }
          ],
          "carpet": [
           {
            "aaxis": {
             "endlinecolor": "#2a3f5f",
             "gridcolor": "white",
             "linecolor": "white",
             "minorgridcolor": "white",
             "startlinecolor": "#2a3f5f"
            },
            "baxis": {
             "endlinecolor": "#2a3f5f",
             "gridcolor": "white",
             "linecolor": "white",
             "minorgridcolor": "white",
             "startlinecolor": "#2a3f5f"
            },
            "type": "carpet"
           }
          ],
          "choropleth": [
           {
            "colorbar": {
             "outlinewidth": 0,
             "ticks": ""
            },
            "type": "choropleth"
           }
          ],
          "contour": [
           {
            "colorbar": {
             "outlinewidth": 0,
             "ticks": ""
            },
            "colorscale": [
             [
              0,
              "#0d0887"
             ],
             [
              0.1111111111111111,
              "#46039f"
             ],
             [
              0.2222222222222222,
              "#7201a8"
             ],
             [
              0.3333333333333333,
              "#9c179e"
             ],
             [
              0.4444444444444444,
              "#bd3786"
             ],
             [
              0.5555555555555556,
              "#d8576b"
             ],
             [
              0.6666666666666666,
              "#ed7953"
             ],
             [
              0.7777777777777778,
              "#fb9f3a"
             ],
             [
              0.8888888888888888,
              "#fdca26"
             ],
             [
              1,
              "#f0f921"
             ]
            ],
            "type": "contour"
           }
          ],
          "contourcarpet": [
           {
            "colorbar": {
             "outlinewidth": 0,
             "ticks": ""
            },
            "type": "contourcarpet"
           }
          ],
          "heatmap": [
           {
            "colorbar": {
             "outlinewidth": 0,
             "ticks": ""
            },
            "colorscale": [
             [
              0,
              "#0d0887"
             ],
             [
              0.1111111111111111,
              "#46039f"
             ],
             [
              0.2222222222222222,
              "#7201a8"
             ],
             [
              0.3333333333333333,
              "#9c179e"
             ],
             [
              0.4444444444444444,
              "#bd3786"
             ],
             [
              0.5555555555555556,
              "#d8576b"
             ],
             [
              0.6666666666666666,
              "#ed7953"
             ],
             [
              0.7777777777777778,
              "#fb9f3a"
             ],
             [
              0.8888888888888888,
              "#fdca26"
             ],
             [
              1,
              "#f0f921"
             ]
            ],
            "type": "heatmap"
           }
          ],
          "heatmapgl": [
           {
            "colorbar": {
             "outlinewidth": 0,
             "ticks": ""
            },
            "colorscale": [
             [
              0,
              "#0d0887"
             ],
             [
              0.1111111111111111,
              "#46039f"
             ],
             [
              0.2222222222222222,
              "#7201a8"
             ],
             [
              0.3333333333333333,
              "#9c179e"
             ],
             [
              0.4444444444444444,
              "#bd3786"
             ],
             [
              0.5555555555555556,
              "#d8576b"
             ],
             [
              0.6666666666666666,
              "#ed7953"
             ],
             [
              0.7777777777777778,
              "#fb9f3a"
             ],
             [
              0.8888888888888888,
              "#fdca26"
             ],
             [
              1,
              "#f0f921"
             ]
            ],
            "type": "heatmapgl"
           }
          ],
          "histogram": [
           {
            "marker": {
             "pattern": {
              "fillmode": "overlay",
              "size": 10,
              "solidity": 0.2
             }
            },
            "type": "histogram"
           }
          ],
          "histogram2d": [
           {
            "colorbar": {
             "outlinewidth": 0,
             "ticks": ""
            },
            "colorscale": [
             [
              0,
              "#0d0887"
             ],
             [
              0.1111111111111111,
              "#46039f"
             ],
             [
              0.2222222222222222,
              "#7201a8"
             ],
             [
              0.3333333333333333,
              "#9c179e"
             ],
             [
              0.4444444444444444,
              "#bd3786"
             ],
             [
              0.5555555555555556,
              "#d8576b"
             ],
             [
              0.6666666666666666,
              "#ed7953"
             ],
             [
              0.7777777777777778,
              "#fb9f3a"
             ],
             [
              0.8888888888888888,
              "#fdca26"
             ],
             [
              1,
              "#f0f921"
             ]
            ],
            "type": "histogram2d"
           }
          ],
          "histogram2dcontour": [
           {
            "colorbar": {
             "outlinewidth": 0,
             "ticks": ""
            },
            "colorscale": [
             [
              0,
              "#0d0887"
             ],
             [
              0.1111111111111111,
              "#46039f"
             ],
             [
              0.2222222222222222,
              "#7201a8"
             ],
             [
              0.3333333333333333,
              "#9c179e"
             ],
             [
              0.4444444444444444,
              "#bd3786"
             ],
             [
              0.5555555555555556,
              "#d8576b"
             ],
             [
              0.6666666666666666,
              "#ed7953"
             ],
             [
              0.7777777777777778,
              "#fb9f3a"
             ],
             [
              0.8888888888888888,
              "#fdca26"
             ],
             [
              1,
              "#f0f921"
             ]
            ],
            "type": "histogram2dcontour"
           }
          ],
          "mesh3d": [
           {
            "colorbar": {
             "outlinewidth": 0,
             "ticks": ""
            },
            "type": "mesh3d"
           }
          ],
          "parcoords": [
           {
            "line": {
             "colorbar": {
              "outlinewidth": 0,
              "ticks": ""
             }
            },
            "type": "parcoords"
           }
          ],
          "pie": [
           {
            "automargin": true,
            "type": "pie"
           }
          ],
          "scatter": [
           {
            "fillpattern": {
             "fillmode": "overlay",
             "size": 10,
             "solidity": 0.2
            },
            "type": "scatter"
           }
          ],
          "scatter3d": [
           {
            "line": {
             "colorbar": {
              "outlinewidth": 0,
              "ticks": ""
             }
            },
            "marker": {
             "colorbar": {
              "outlinewidth": 0,
              "ticks": ""
             }
            },
            "type": "scatter3d"
           }
          ],
          "scattercarpet": [
           {
            "marker": {
             "colorbar": {
              "outlinewidth": 0,
              "ticks": ""
             }
            },
            "type": "scattercarpet"
           }
          ],
          "scattergeo": [
           {
            "marker": {
             "colorbar": {
              "outlinewidth": 0,
              "ticks": ""
             }
            },
            "type": "scattergeo"
           }
          ],
          "scattergl": [
           {
            "marker": {
             "colorbar": {
              "outlinewidth": 0,
              "ticks": ""
             }
            },
            "type": "scattergl"
           }
          ],
          "scattermapbox": [
           {
            "marker": {
             "colorbar": {
              "outlinewidth": 0,
              "ticks": ""
             }
            },
            "type": "scattermapbox"
           }
          ],
          "scatterpolar": [
           {
            "marker": {
             "colorbar": {
              "outlinewidth": 0,
              "ticks": ""
             }
            },
            "type": "scatterpolar"
           }
          ],
          "scatterpolargl": [
           {
            "marker": {
             "colorbar": {
              "outlinewidth": 0,
              "ticks": ""
             }
            },
            "type": "scatterpolargl"
           }
          ],
          "scatterternary": [
           {
            "marker": {
             "colorbar": {
              "outlinewidth": 0,
              "ticks": ""
             }
            },
            "type": "scatterternary"
           }
          ],
          "surface": [
           {
            "colorbar": {
             "outlinewidth": 0,
             "ticks": ""
            },
            "colorscale": [
             [
              0,
              "#0d0887"
             ],
             [
              0.1111111111111111,
              "#46039f"
             ],
             [
              0.2222222222222222,
              "#7201a8"
             ],
             [
              0.3333333333333333,
              "#9c179e"
             ],
             [
              0.4444444444444444,
              "#bd3786"
             ],
             [
              0.5555555555555556,
              "#d8576b"
             ],
             [
              0.6666666666666666,
              "#ed7953"
             ],
             [
              0.7777777777777778,
              "#fb9f3a"
             ],
             [
              0.8888888888888888,
              "#fdca26"
             ],
             [
              1,
              "#f0f921"
             ]
            ],
            "type": "surface"
           }
          ],
          "table": [
           {
            "cells": {
             "fill": {
              "color": "#EBF0F8"
             },
             "line": {
              "color": "white"
             }
            },
            "header": {
             "fill": {
              "color": "#C8D4E3"
             },
             "line": {
              "color": "white"
             }
            },
            "type": "table"
           }
          ]
         },
         "layout": {
          "annotationdefaults": {
           "arrowcolor": "#2a3f5f",
           "arrowhead": 0,
           "arrowwidth": 1
          },
          "autotypenumbers": "strict",
          "coloraxis": {
           "colorbar": {
            "outlinewidth": 0,
            "ticks": ""
           }
          },
          "colorscale": {
           "diverging": [
            [
             0,
             "#8e0152"
            ],
            [
             0.1,
             "#c51b7d"
            ],
            [
             0.2,
             "#de77ae"
            ],
            [
             0.3,
             "#f1b6da"
            ],
            [
             0.4,
             "#fde0ef"
            ],
            [
             0.5,
             "#f7f7f7"
            ],
            [
             0.6,
             "#e6f5d0"
            ],
            [
             0.7,
             "#b8e186"
            ],
            [
             0.8,
             "#7fbc41"
            ],
            [
             0.9,
             "#4d9221"
            ],
            [
             1,
             "#276419"
            ]
           ],
           "sequential": [
            [
             0,
             "#0d0887"
            ],
            [
             0.1111111111111111,
             "#46039f"
            ],
            [
             0.2222222222222222,
             "#7201a8"
            ],
            [
             0.3333333333333333,
             "#9c179e"
            ],
            [
             0.4444444444444444,
             "#bd3786"
            ],
            [
             0.5555555555555556,
             "#d8576b"
            ],
            [
             0.6666666666666666,
             "#ed7953"
            ],
            [
             0.7777777777777778,
             "#fb9f3a"
            ],
            [
             0.8888888888888888,
             "#fdca26"
            ],
            [
             1,
             "#f0f921"
            ]
           ],
           "sequentialminus": [
            [
             0,
             "#0d0887"
            ],
            [
             0.1111111111111111,
             "#46039f"
            ],
            [
             0.2222222222222222,
             "#7201a8"
            ],
            [
             0.3333333333333333,
             "#9c179e"
            ],
            [
             0.4444444444444444,
             "#bd3786"
            ],
            [
             0.5555555555555556,
             "#d8576b"
            ],
            [
             0.6666666666666666,
             "#ed7953"
            ],
            [
             0.7777777777777778,
             "#fb9f3a"
            ],
            [
             0.8888888888888888,
             "#fdca26"
            ],
            [
             1,
             "#f0f921"
            ]
           ]
          },
          "colorway": [
           "#636efa",
           "#EF553B",
           "#00cc96",
           "#ab63fa",
           "#FFA15A",
           "#19d3f3",
           "#FF6692",
           "#B6E880",
           "#FF97FF",
           "#FECB52"
          ],
          "font": {
           "color": "#2a3f5f"
          },
          "geo": {
           "bgcolor": "white",
           "lakecolor": "white",
           "landcolor": "#E5ECF6",
           "showlakes": true,
           "showland": true,
           "subunitcolor": "white"
          },
          "hoverlabel": {
           "align": "left"
          },
          "hovermode": "closest",
          "mapbox": {
           "style": "light"
          },
          "paper_bgcolor": "white",
          "plot_bgcolor": "#E5ECF6",
          "polar": {
           "angularaxis": {
            "gridcolor": "white",
            "linecolor": "white",
            "ticks": ""
           },
           "bgcolor": "#E5ECF6",
           "radialaxis": {
            "gridcolor": "white",
            "linecolor": "white",
            "ticks": ""
           }
          },
          "scene": {
           "xaxis": {
            "backgroundcolor": "#E5ECF6",
            "gridcolor": "white",
            "gridwidth": 2,
            "linecolor": "white",
            "showbackground": true,
            "ticks": "",
            "zerolinecolor": "white"
           },
           "yaxis": {
            "backgroundcolor": "#E5ECF6",
            "gridcolor": "white",
            "gridwidth": 2,
            "linecolor": "white",
            "showbackground": true,
            "ticks": "",
            "zerolinecolor": "white"
           },
           "zaxis": {
            "backgroundcolor": "#E5ECF6",
            "gridcolor": "white",
            "gridwidth": 2,
            "linecolor": "white",
            "showbackground": true,
            "ticks": "",
            "zerolinecolor": "white"
           }
          },
          "shapedefaults": {
           "line": {
            "color": "#2a3f5f"
           }
          },
          "ternary": {
           "aaxis": {
            "gridcolor": "white",
            "linecolor": "white",
            "ticks": ""
           },
           "baxis": {
            "gridcolor": "white",
            "linecolor": "white",
            "ticks": ""
           },
           "bgcolor": "#E5ECF6",
           "caxis": {
            "gridcolor": "white",
            "linecolor": "white",
            "ticks": ""
           }
          },
          "title": {
           "x": 0.05
          },
          "xaxis": {
           "automargin": true,
           "gridcolor": "white",
           "linecolor": "white",
           "ticks": "",
           "title": {
            "standoff": 15
           },
           "zerolinecolor": "white",
           "zerolinewidth": 2
          },
          "yaxis": {
           "automargin": true,
           "gridcolor": "white",
           "linecolor": "white",
           "ticks": "",
           "title": {
            "standoff": 15
           },
           "zerolinecolor": "white",
           "zerolinewidth": 2
          }
         }
        },
        "xaxis": {
         "type": "log"
        },
        "yaxis": {
         "type": "log"
        }
       }
      },
      "text/html": [
       "<div>                            <div id=\"a5988853-27eb-499b-831b-06d68c3cbdd6\" class=\"plotly-graph-div\" style=\"height:525px; width:100%;\"></div>            <script type=\"text/javascript\">                require([\"plotly\"], function(Plotly) {                    window.PLOTLYENV=window.PLOTLYENV || {};                                    if (document.getElementById(\"a5988853-27eb-499b-831b-06d68c3cbdd6\")) {                    Plotly.newPlot(                        \"a5988853-27eb-499b-831b-06d68c3cbdd6\",                        [{\"width\":[0.05,0.25,0.5,2.5,5.0,25.0,50.0,250.0,500.0,2500.0,5000.0,25000.0,50000.0,250000.0],\"x\":[0.1,0.5,1.0,5.0,10.0,50.0,100.0,500.0,1000.0,5000.0,10000.0,50000.0,100000.0,500000.0],\"y\":[0,1766,5631,27045,1666730,3087601,1816110,40394,39278,5100,2959,192,66,8],\"type\":\"bar\"}],                        {\"template\":{\"data\":{\"histogram2dcontour\":[{\"type\":\"histogram2dcontour\",\"colorbar\":{\"outlinewidth\":0,\"ticks\":\"\"},\"colorscale\":[[0.0,\"#0d0887\"],[0.1111111111111111,\"#46039f\"],[0.2222222222222222,\"#7201a8\"],[0.3333333333333333,\"#9c179e\"],[0.4444444444444444,\"#bd3786\"],[0.5555555555555556,\"#d8576b\"],[0.6666666666666666,\"#ed7953\"],[0.7777777777777778,\"#fb9f3a\"],[0.8888888888888888,\"#fdca26\"],[1.0,\"#f0f921\"]]}],\"choropleth\":[{\"type\":\"choropleth\",\"colorbar\":{\"outlinewidth\":0,\"ticks\":\"\"}}],\"histogram2d\":[{\"type\":\"histogram2d\",\"colorbar\":{\"outlinewidth\":0,\"ticks\":\"\"},\"colorscale\":[[0.0,\"#0d0887\"],[0.1111111111111111,\"#46039f\"],[0.2222222222222222,\"#7201a8\"],[0.3333333333333333,\"#9c179e\"],[0.4444444444444444,\"#bd3786\"],[0.5555555555555556,\"#d8576b\"],[0.6666666666666666,\"#ed7953\"],[0.7777777777777778,\"#fb9f3a\"],[0.8888888888888888,\"#fdca26\"],[1.0,\"#f0f921\"]]}],\"heatmap\":[{\"type\":\"heatmap\",\"colorbar\":{\"outlinewidth\":0,\"ticks\":\"\"},\"colorscale\":[[0.0,\"#0d0887\"],[0.1111111111111111,\"#46039f\"],[0.2222222222222222,\"#7201a8\"],[0.3333333333333333,\"#9c179e\"],[0.4444444444444444,\"#bd3786\"],[0.5555555555555556,\"#d8576b\"],[0.6666666666666666,\"#ed7953\"],[0.7777777777777778,\"#fb9f3a\"],[0.8888888888888888,\"#fdca26\"],[1.0,\"#f0f921\"]]}],\"heatmapgl\":[{\"type\":\"heatmapgl\",\"colorbar\":{\"outlinewidth\":0,\"ticks\":\"\"},\"colorscale\":[[0.0,\"#0d0887\"],[0.1111111111111111,\"#46039f\"],[0.2222222222222222,\"#7201a8\"],[0.3333333333333333,\"#9c179e\"],[0.4444444444444444,\"#bd3786\"],[0.5555555555555556,\"#d8576b\"],[0.6666666666666666,\"#ed7953\"],[0.7777777777777778,\"#fb9f3a\"],[0.8888888888888888,\"#fdca26\"],[1.0,\"#f0f921\"]]}],\"contourcarpet\":[{\"type\":\"contourcarpet\",\"colorbar\":{\"outlinewidth\":0,\"ticks\":\"\"}}],\"contour\":[{\"type\":\"contour\",\"colorbar\":{\"outlinewidth\":0,\"ticks\":\"\"},\"colorscale\":[[0.0,\"#0d0887\"],[0.1111111111111111,\"#46039f\"],[0.2222222222222222,\"#7201a8\"],[0.3333333333333333,\"#9c179e\"],[0.4444444444444444,\"#bd3786\"],[0.5555555555555556,\"#d8576b\"],[0.6666666666666666,\"#ed7953\"],[0.7777777777777778,\"#fb9f3a\"],[0.8888888888888888,\"#fdca26\"],[1.0,\"#f0f921\"]]}],\"surface\":[{\"type\":\"surface\",\"colorbar\":{\"outlinewidth\":0,\"ticks\":\"\"},\"colorscale\":[[0.0,\"#0d0887\"],[0.1111111111111111,\"#46039f\"],[0.2222222222222222,\"#7201a8\"],[0.3333333333333333,\"#9c179e\"],[0.4444444444444444,\"#bd3786\"],[0.5555555555555556,\"#d8576b\"],[0.6666666666666666,\"#ed7953\"],[0.7777777777777778,\"#fb9f3a\"],[0.8888888888888888,\"#fdca26\"],[1.0,\"#f0f921\"]]}],\"mesh3d\":[{\"type\":\"mesh3d\",\"colorbar\":{\"outlinewidth\":0,\"ticks\":\"\"}}],\"scatter\":[{\"fillpattern\":{\"fillmode\":\"overlay\",\"size\":10,\"solidity\":0.2},\"type\":\"scatter\"}],\"parcoords\":[{\"type\":\"parcoords\",\"line\":{\"colorbar\":{\"outlinewidth\":0,\"ticks\":\"\"}}}],\"scatterpolargl\":[{\"type\":\"scatterpolargl\",\"marker\":{\"colorbar\":{\"outlinewidth\":0,\"ticks\":\"\"}}}],\"bar\":[{\"error_x\":{\"color\":\"#2a3f5f\"},\"error_y\":{\"color\":\"#2a3f5f\"},\"marker\":{\"line\":{\"color\":\"#E5ECF6\",\"width\":0.5},\"pattern\":{\"fillmode\":\"overlay\",\"size\":10,\"solidity\":0.2}},\"type\":\"bar\"}],\"scattergeo\":[{\"type\":\"scattergeo\",\"marker\":{\"colorbar\":{\"outlinewidth\":0,\"ticks\":\"\"}}}],\"scatterpolar\":[{\"type\":\"scatterpolar\",\"marker\":{\"colorbar\":{\"outlinewidth\":0,\"ticks\":\"\"}}}],\"histogram\":[{\"marker\":{\"pattern\":{\"fillmode\":\"overlay\",\"size\":10,\"solidity\":0.2}},\"type\":\"histogram\"}],\"scattergl\":[{\"type\":\"scattergl\",\"marker\":{\"colorbar\":{\"outlinewidth\":0,\"ticks\":\"\"}}}],\"scatter3d\":[{\"type\":\"scatter3d\",\"line\":{\"colorbar\":{\"outlinewidth\":0,\"ticks\":\"\"}},\"marker\":{\"colorbar\":{\"outlinewidth\":0,\"ticks\":\"\"}}}],\"scattermapbox\":[{\"type\":\"scattermapbox\",\"marker\":{\"colorbar\":{\"outlinewidth\":0,\"ticks\":\"\"}}}],\"scatterternary\":[{\"type\":\"scatterternary\",\"marker\":{\"colorbar\":{\"outlinewidth\":0,\"ticks\":\"\"}}}],\"scattercarpet\":[{\"type\":\"scattercarpet\",\"marker\":{\"colorbar\":{\"outlinewidth\":0,\"ticks\":\"\"}}}],\"carpet\":[{\"aaxis\":{\"endlinecolor\":\"#2a3f5f\",\"gridcolor\":\"white\",\"linecolor\":\"white\",\"minorgridcolor\":\"white\",\"startlinecolor\":\"#2a3f5f\"},\"baxis\":{\"endlinecolor\":\"#2a3f5f\",\"gridcolor\":\"white\",\"linecolor\":\"white\",\"minorgridcolor\":\"white\",\"startlinecolor\":\"#2a3f5f\"},\"type\":\"carpet\"}],\"table\":[{\"cells\":{\"fill\":{\"color\":\"#EBF0F8\"},\"line\":{\"color\":\"white\"}},\"header\":{\"fill\":{\"color\":\"#C8D4E3\"},\"line\":{\"color\":\"white\"}},\"type\":\"table\"}],\"barpolar\":[{\"marker\":{\"line\":{\"color\":\"#E5ECF6\",\"width\":0.5},\"pattern\":{\"fillmode\":\"overlay\",\"size\":10,\"solidity\":0.2}},\"type\":\"barpolar\"}],\"pie\":[{\"automargin\":true,\"type\":\"pie\"}]},\"layout\":{\"autotypenumbers\":\"strict\",\"colorway\":[\"#636efa\",\"#EF553B\",\"#00cc96\",\"#ab63fa\",\"#FFA15A\",\"#19d3f3\",\"#FF6692\",\"#B6E880\",\"#FF97FF\",\"#FECB52\"],\"font\":{\"color\":\"#2a3f5f\"},\"hovermode\":\"closest\",\"hoverlabel\":{\"align\":\"left\"},\"paper_bgcolor\":\"white\",\"plot_bgcolor\":\"#E5ECF6\",\"polar\":{\"bgcolor\":\"#E5ECF6\",\"angularaxis\":{\"gridcolor\":\"white\",\"linecolor\":\"white\",\"ticks\":\"\"},\"radialaxis\":{\"gridcolor\":\"white\",\"linecolor\":\"white\",\"ticks\":\"\"}},\"ternary\":{\"bgcolor\":\"#E5ECF6\",\"aaxis\":{\"gridcolor\":\"white\",\"linecolor\":\"white\",\"ticks\":\"\"},\"baxis\":{\"gridcolor\":\"white\",\"linecolor\":\"white\",\"ticks\":\"\"},\"caxis\":{\"gridcolor\":\"white\",\"linecolor\":\"white\",\"ticks\":\"\"}},\"coloraxis\":{\"colorbar\":{\"outlinewidth\":0,\"ticks\":\"\"}},\"colorscale\":{\"sequential\":[[0.0,\"#0d0887\"],[0.1111111111111111,\"#46039f\"],[0.2222222222222222,\"#7201a8\"],[0.3333333333333333,\"#9c179e\"],[0.4444444444444444,\"#bd3786\"],[0.5555555555555556,\"#d8576b\"],[0.6666666666666666,\"#ed7953\"],[0.7777777777777778,\"#fb9f3a\"],[0.8888888888888888,\"#fdca26\"],[1.0,\"#f0f921\"]],\"sequentialminus\":[[0.0,\"#0d0887\"],[0.1111111111111111,\"#46039f\"],[0.2222222222222222,\"#7201a8\"],[0.3333333333333333,\"#9c179e\"],[0.4444444444444444,\"#bd3786\"],[0.5555555555555556,\"#d8576b\"],[0.6666666666666666,\"#ed7953\"],[0.7777777777777778,\"#fb9f3a\"],[0.8888888888888888,\"#fdca26\"],[1.0,\"#f0f921\"]],\"diverging\":[[0,\"#8e0152\"],[0.1,\"#c51b7d\"],[0.2,\"#de77ae\"],[0.3,\"#f1b6da\"],[0.4,\"#fde0ef\"],[0.5,\"#f7f7f7\"],[0.6,\"#e6f5d0\"],[0.7,\"#b8e186\"],[0.8,\"#7fbc41\"],[0.9,\"#4d9221\"],[1,\"#276419\"]]},\"xaxis\":{\"gridcolor\":\"white\",\"linecolor\":\"white\",\"ticks\":\"\",\"title\":{\"standoff\":15},\"zerolinecolor\":\"white\",\"automargin\":true,\"zerolinewidth\":2},\"yaxis\":{\"gridcolor\":\"white\",\"linecolor\":\"white\",\"ticks\":\"\",\"title\":{\"standoff\":15},\"zerolinecolor\":\"white\",\"automargin\":true,\"zerolinewidth\":2},\"scene\":{\"xaxis\":{\"backgroundcolor\":\"#E5ECF6\",\"gridcolor\":\"white\",\"linecolor\":\"white\",\"showbackground\":true,\"ticks\":\"\",\"zerolinecolor\":\"white\",\"gridwidth\":2},\"yaxis\":{\"backgroundcolor\":\"#E5ECF6\",\"gridcolor\":\"white\",\"linecolor\":\"white\",\"showbackground\":true,\"ticks\":\"\",\"zerolinecolor\":\"white\",\"gridwidth\":2},\"zaxis\":{\"backgroundcolor\":\"#E5ECF6\",\"gridcolor\":\"white\",\"linecolor\":\"white\",\"showbackground\":true,\"ticks\":\"\",\"zerolinecolor\":\"white\",\"gridwidth\":2}},\"shapedefaults\":{\"line\":{\"color\":\"#2a3f5f\"}},\"annotationdefaults\":{\"arrowcolor\":\"#2a3f5f\",\"arrowhead\":0,\"arrowwidth\":1},\"geo\":{\"bgcolor\":\"white\",\"landcolor\":\"#E5ECF6\",\"subunitcolor\":\"white\",\"showland\":true,\"showlakes\":true,\"lakecolor\":\"white\"},\"title\":{\"x\":0.05},\"mapbox\":{\"style\":\"light\"}}},\"xaxis\":{\"type\":\"log\"},\"yaxis\":{\"type\":\"log\"}},                        {\"responsive\": true}                    ).then(function(){\n",
       "                            \n",
       "var gd = document.getElementById('a5988853-27eb-499b-831b-06d68c3cbdd6');\n",
       "var x = new MutationObserver(function (mutations, observer) {{\n",
       "        var display = window.getComputedStyle(gd).display;\n",
       "        if (!display || display === 'none') {{\n",
       "            console.log([gd, 'removed!']);\n",
       "            Plotly.purge(gd);\n",
       "            observer.disconnect();\n",
       "        }}\n",
       "}});\n",
       "\n",
       "// Listen for the removal of the full notebook cells\n",
       "var notebookContainer = gd.closest('#notebook-container');\n",
       "if (notebookContainer) {{\n",
       "    x.observe(notebookContainer, {childList: true});\n",
       "}}\n",
       "\n",
       "// Listen for the clearing of the current output cell\n",
       "var outputEl = gd.closest('.output');\n",
       "if (outputEl) {{\n",
       "    x.observe(outputEl, {childList: true});\n",
       "}}\n",
       "\n",
       "                        })                };                });            </script>        </div>"
      ]
     },
     "metadata": {},
     "output_type": "display_data"
    }
   ],
   "source": [
    "fig = go.Figure(data=[go.Bar(\n",
    "    x=df_rep_surf['surface'],\n",
    "    y=df_rep_surf['nb'],\n",
    "    width=df_rep_surf['surface']/2,\n",
    ")])\n",
    "fig.update_xaxes(type='log')\n",
    "fig.update_yaxes(type='log')\n",
    "fig.show()"
   ]
  },
  {
   "cell_type": "code",
   "execution_count": 32,
   "id": "ac1a221a",
   "metadata": {},
   "outputs": [
    {
     "name": "stdout",
     "output_type": "stream",
     "text": [
      "aucune surface de bien renseignée\n",
      "Dépendance                                  2414237\n",
      "Local industriel. commercial ou assimilé      32382\n",
      "Appartement                                     148\n",
      "Maison                                           51\n",
      "Name: type_local, dtype: int64\n",
      "aucune surface\n",
      "Dépendance                                  1813822\n",
      "Local industriel. commercial ou assimilé        813\n",
      "Appartement                                     136\n",
      "Maison                                            5\n",
      "Name: type_local, dtype: int64\n"
     ]
    }
   ],
   "source": [
    "### lots, bâti, pièces\n",
    "\n",
    "print(\"aucune surface de bien renseignée\")\n",
    "cols_of_interest = [c for c in df.columns if any([s in c for s in ['surface_reelle', 'surface_carrez']])]\n",
    "print(df.loc[df[[surf_col for surf_col in cols_of_interest]].isna().all(axis=1)]['type_local'].value_counts(dropna=True))\n",
    "\n",
    "print(\"\\naucune surface\")\n",
    "cols_of_interest = [c for c in df.columns if 'surface' in c]\n",
    "print(df.loc[df[[surf_col for surf_col in cols_of_interest]].isna().all(axis=1)]['type_local'].value_counts(dropna=False))\n",
    "\n",
    "print(\"\\npas de surface de bâti mais au moins un lot a une surface (dépendances ok ?)\")\n",
    "cols_of_interest = [c for c in df.columns if 'surface_carrez' in c]\n",
    "print(df.loc[(df['surface_reelle_bati'].isna()) & (~(df[[surf_col for surf_col in cols_of_interest]].isna()).all(axis=1))]['type_local'].value_counts(dropna=True))\n",
    "\n",
    "print(\"\\nun lot a une plus grande surface que le bâti\")\n",
    "cols_of_interest = [c for c in df.columns if 'surface_carrez' in c]\n",
    "print(df.loc[df[[surf_col for surf_col in cols_of_interest]].max(axis=1) > 1.05*df['surface_reelle_bati']]['type_local'].value_counts(dropna=True))\n",
    "\n",
    "print('\\nappartement ou maison sans nombre de pièces')\n",
    "print(df.loc[df['code_type_local'].isin(['1','2']) & df['nombre_pieces_principales'].isna()])"
   ]
  },
  {
   "cell_type": "code",
   "execution_count": 76,
   "id": "88b4e975",
   "metadata": {
    "scrolled": true
   },
   "outputs": [
    {
     "name": "stdout",
     "output_type": "stream",
     "text": [
      "aucun type renseigné\n",
      "5.01 %\n",
      "mutations sans type\n",
      "4.52 %\n",
      "natures mutations de ces biens :\n",
      "Vente en l'état futur d'achèvement    794327\n",
      "Vente                                  24130\n",
      "Expropriation                            956\n",
      "Echange                                  836\n",
      "Vente terrain à bâtir                    124\n",
      "Adjudication                              24\n",
      "Name: nature_mutation, dtype: int64\n"
     ]
    },
    {
     "data": {
      "text/html": [
       "<div>\n",
       "<style scoped>\n",
       "    .dataframe tbody tr th:only-of-type {\n",
       "        vertical-align: middle;\n",
       "    }\n",
       "\n",
       "    .dataframe tbody tr th {\n",
       "        vertical-align: top;\n",
       "    }\n",
       "\n",
       "    .dataframe thead th {\n",
       "        text-align: right;\n",
       "    }\n",
       "</style>\n",
       "<table border=\"1\" class=\"dataframe\">\n",
       "  <thead>\n",
       "    <tr style=\"text-align: right;\">\n",
       "      <th></th>\n",
       "      <th>id_mutation</th>\n",
       "      <th>code_type_local</th>\n",
       "      <th>code_nature_culture</th>\n",
       "      <th>code_nature_culture_speciale</th>\n",
       "    </tr>\n",
       "  </thead>\n",
       "  <tbody>\n",
       "    <tr>\n",
       "      <th>2</th>\n",
       "      <td>2017-100055</td>\n",
       "      <td>[nan, nan]</td>\n",
       "      <td>[nan, nan]</td>\n",
       "      <td>[nan, nan]</td>\n",
       "    </tr>\n",
       "    <tr>\n",
       "      <th>3</th>\n",
       "      <td>2017-100056</td>\n",
       "      <td>[nan, nan]</td>\n",
       "      <td>[nan, nan]</td>\n",
       "      <td>[nan, nan]</td>\n",
       "    </tr>\n",
       "    <tr>\n",
       "      <th>4</th>\n",
       "      <td>2017-100083</td>\n",
       "      <td>[nan, nan]</td>\n",
       "      <td>[nan, nan]</td>\n",
       "      <td>[nan, nan]</td>\n",
       "    </tr>\n",
       "    <tr>\n",
       "      <th>5</th>\n",
       "      <td>2017-100123</td>\n",
       "      <td>[nan, nan]</td>\n",
       "      <td>[nan, nan]</td>\n",
       "      <td>[nan, nan]</td>\n",
       "    </tr>\n",
       "    <tr>\n",
       "      <th>6</th>\n",
       "      <td>2017-100248</td>\n",
       "      <td>[nan, nan]</td>\n",
       "      <td>[nan, nan]</td>\n",
       "      <td>[nan, nan]</td>\n",
       "    </tr>\n",
       "    <tr>\n",
       "      <th>...</th>\n",
       "      <td>...</td>\n",
       "      <td>...</td>\n",
       "      <td>...</td>\n",
       "      <td>...</td>\n",
       "    </tr>\n",
       "    <tr>\n",
       "      <th>355224</th>\n",
       "      <td>2022-99894</td>\n",
       "      <td>[nan, nan, nan]</td>\n",
       "      <td>[nan, nan, nan]</td>\n",
       "      <td>[nan, nan, nan]</td>\n",
       "    </tr>\n",
       "    <tr>\n",
       "      <th>355225</th>\n",
       "      <td>2022-99895</td>\n",
       "      <td>[nan]</td>\n",
       "      <td>[nan]</td>\n",
       "      <td>[nan]</td>\n",
       "    </tr>\n",
       "    <tr>\n",
       "      <th>355226</th>\n",
       "      <td>2022-99936</td>\n",
       "      <td>[nan, nan, nan]</td>\n",
       "      <td>[nan, nan, nan]</td>\n",
       "      <td>[nan, nan, nan]</td>\n",
       "    </tr>\n",
       "    <tr>\n",
       "      <th>355227</th>\n",
       "      <td>2022-99947</td>\n",
       "      <td>[nan, nan]</td>\n",
       "      <td>[nan, nan]</td>\n",
       "      <td>[nan, nan]</td>\n",
       "    </tr>\n",
       "    <tr>\n",
       "      <th>355228</th>\n",
       "      <td>2022-99982</td>\n",
       "      <td>[nan, nan, nan]</td>\n",
       "      <td>[nan, nan, nan]</td>\n",
       "      <td>[nan, nan, nan]</td>\n",
       "    </tr>\n",
       "  </tbody>\n",
       "</table>\n",
       "<p>332790 rows × 4 columns</p>\n",
       "</div>"
      ],
      "text/plain": [
       "        id_mutation  code_type_local code_nature_culture  \\\n",
       "2       2017-100055       [nan, nan]          [nan, nan]   \n",
       "3       2017-100056       [nan, nan]          [nan, nan]   \n",
       "4       2017-100083       [nan, nan]          [nan, nan]   \n",
       "5       2017-100123       [nan, nan]          [nan, nan]   \n",
       "6       2017-100248       [nan, nan]          [nan, nan]   \n",
       "...             ...              ...                 ...   \n",
       "355224   2022-99894  [nan, nan, nan]     [nan, nan, nan]   \n",
       "355225   2022-99895            [nan]               [nan]   \n",
       "355226   2022-99936  [nan, nan, nan]     [nan, nan, nan]   \n",
       "355227   2022-99947       [nan, nan]          [nan, nan]   \n",
       "355228   2022-99982  [nan, nan, nan]     [nan, nan, nan]   \n",
       "\n",
       "       code_nature_culture_speciale  \n",
       "2                        [nan, nan]  \n",
       "3                        [nan, nan]  \n",
       "4                        [nan, nan]  \n",
       "5                        [nan, nan]  \n",
       "6                        [nan, nan]  \n",
       "...                             ...  \n",
       "355224              [nan, nan, nan]  \n",
       "355225                        [nan]  \n",
       "355226              [nan, nan, nan]  \n",
       "355227                   [nan, nan]  \n",
       "355228              [nan, nan, nan]  \n",
       "\n",
       "[332790 rows x 4 columns]"
      ]
     },
     "execution_count": 76,
     "metadata": {},
     "output_type": "execute_result"
    }
   ],
   "source": [
    "# types\n",
    "print(\"aucun type renseigné\")\n",
    "no_type = df.loc[(df['code_type_local'].isna()) & (df['code_nature_culture'].isna()) & (df['code_nature_culture_speciale'].isna())]\n",
    "print(round(len(no_type)/len(df)*100, 2), \"% du nombre de lignes\")\n",
    "\n",
    "print(\"mutations sans type\")\n",
    "full_no_type = pd.DataFrame(None)\n",
    "for c in ['code_type_local', 'code_nature_culture', 'code_nature_culture_speciale']:\n",
    "    if len(full_no_type)==0:\n",
    "        full_no_type = df.loc[df['id_mutation'].isin(no_type['id_mutation'])].groupby('id_mutation')[c].apply(list).reset_index()\n",
    "    else:\n",
    "        full_no_type = pd.merge(full_no_type, df.loc[df['id_mutation'].isin(no_type['id_mutation'])].groupby('id_mutation')[c].apply(list).reset_index(), on='id_mutation', how='outer')\n",
    "\n",
    "full_no_type = full_no_type.loc[pd.Series(np.product([full_no_type[c].apply(lambda l: all([not(isinstance(k, str)) for k in l])) for c in full_no_type.columns if 'code_' in c], axis=0)).astype(bool)]\n",
    "print(round(len(full_no_type)/len(df['id_mutation'].drop_duplicates())*100, 2), \"% du nombre de mutations\")\n",
    "print(\"natures mutations de ces biens :\")\n",
    "print(df.loc[df['id_mutation'].isin(full_no_type['id_mutation'])]['nature_mutation'].value_counts(dropna=False))\n",
    "full_no_type"
   ]
  },
  {
   "cell_type": "code",
   "execution_count": 80,
   "id": "53d857ad",
   "metadata": {},
   "outputs": [
    {
     "data": {
      "text/html": [
       "<div>\n",
       "<style scoped>\n",
       "    .dataframe tbody tr th:only-of-type {\n",
       "        vertical-align: middle;\n",
       "    }\n",
       "\n",
       "    .dataframe tbody tr th {\n",
       "        vertical-align: top;\n",
       "    }\n",
       "\n",
       "    .dataframe thead th {\n",
       "        text-align: right;\n",
       "    }\n",
       "</style>\n",
       "<table border=\"1\" class=\"dataframe\">\n",
       "  <thead>\n",
       "    <tr style=\"text-align: right;\">\n",
       "      <th></th>\n",
       "      <th>id_mutation</th>\n",
       "      <th>date_mutation</th>\n",
       "      <th>numero_disposition</th>\n",
       "      <th>nature_mutation</th>\n",
       "      <th>valeur_fonciere</th>\n",
       "      <th>adresse_numero</th>\n",
       "      <th>adresse_suffixe</th>\n",
       "      <th>adresse_nom_voie</th>\n",
       "      <th>adresse_code_voie</th>\n",
       "      <th>code_postal</th>\n",
       "      <th>code_commune</th>\n",
       "      <th>nom_commune</th>\n",
       "      <th>code_departement</th>\n",
       "      <th>ancien_code_commune</th>\n",
       "      <th>ancien_nom_commune</th>\n",
       "      <th>id_parcelle</th>\n",
       "      <th>ancien_id_parcelle</th>\n",
       "      <th>numero_volume</th>\n",
       "      <th>lot1_numero</th>\n",
       "      <th>lot1_surface_carrez</th>\n",
       "      <th>lot2_numero</th>\n",
       "      <th>lot2_surface_carrez</th>\n",
       "      <th>lot3_numero</th>\n",
       "      <th>lot3_surface_carrez</th>\n",
       "      <th>lot4_numero</th>\n",
       "      <th>lot4_surface_carrez</th>\n",
       "      <th>lot5_numero</th>\n",
       "      <th>lot5_surface_carrez</th>\n",
       "      <th>nombre_lots</th>\n",
       "      <th>code_type_local</th>\n",
       "      <th>type_local</th>\n",
       "      <th>surface_reelle_bati</th>\n",
       "      <th>nombre_pieces_principales</th>\n",
       "      <th>code_nature_culture</th>\n",
       "      <th>nature_culture</th>\n",
       "      <th>code_nature_culture_speciale</th>\n",
       "      <th>nature_culture_speciale</th>\n",
       "      <th>surface_terrain</th>\n",
       "      <th>longitude</th>\n",
       "      <th>latitude</th>\n",
       "    </tr>\n",
       "  </thead>\n",
       "  <tbody>\n",
       "    <tr>\n",
       "      <th>414958</th>\n",
       "      <td>2017-165267</td>\n",
       "      <td>2017-10-07</td>\n",
       "      <td>000001</td>\n",
       "      <td>Vente</td>\n",
       "      <td>66700.0</td>\n",
       "      <td>5842</td>\n",
       "      <td>F</td>\n",
       "      <td>RTE DU TREUSTEL</td>\n",
       "      <td>0842</td>\n",
       "      <td>29120</td>\n",
       "      <td>29037</td>\n",
       "      <td>Combrit</td>\n",
       "      <td>29</td>\n",
       "      <td>NaN</td>\n",
       "      <td>NaN</td>\n",
       "      <td>29037000AH0454</td>\n",
       "      <td>NaN</td>\n",
       "      <td>NaN</td>\n",
       "      <td>117</td>\n",
       "      <td>38.7</td>\n",
       "      <td>NaN</td>\n",
       "      <td>NaN</td>\n",
       "      <td>NaN</td>\n",
       "      <td>NaN</td>\n",
       "      <td>NaN</td>\n",
       "      <td>NaN</td>\n",
       "      <td>NaN</td>\n",
       "      <td>NaN</td>\n",
       "      <td>1</td>\n",
       "      <td>2</td>\n",
       "      <td>Appartement</td>\n",
       "      <td>NaN</td>\n",
       "      <td>NaN</td>\n",
       "      <td>NaN</td>\n",
       "      <td>NaN</td>\n",
       "      <td>NaN</td>\n",
       "      <td>NaN</td>\n",
       "      <td>NaN</td>\n",
       "      <td>-4.153689</td>\n",
       "      <td>47.866252</td>\n",
       "    </tr>\n",
       "    <tr>\n",
       "      <th>414959</th>\n",
       "      <td>2017-165267</td>\n",
       "      <td>2017-10-07</td>\n",
       "      <td>000001</td>\n",
       "      <td>Vente</td>\n",
       "      <td>66700.0</td>\n",
       "      <td>NaN</td>\n",
       "      <td>NaN</td>\n",
       "      <td>PEN DIRY</td>\n",
       "      <td>B171</td>\n",
       "      <td>29120</td>\n",
       "      <td>29037</td>\n",
       "      <td>Combrit</td>\n",
       "      <td>29</td>\n",
       "      <td>NaN</td>\n",
       "      <td>NaN</td>\n",
       "      <td>29037000AH0454</td>\n",
       "      <td>NaN</td>\n",
       "      <td>NaN</td>\n",
       "      <td>45</td>\n",
       "      <td>NaN</td>\n",
       "      <td>NaN</td>\n",
       "      <td>NaN</td>\n",
       "      <td>NaN</td>\n",
       "      <td>NaN</td>\n",
       "      <td>NaN</td>\n",
       "      <td>NaN</td>\n",
       "      <td>NaN</td>\n",
       "      <td>NaN</td>\n",
       "      <td>1</td>\n",
       "      <td>3</td>\n",
       "      <td>Dépendance</td>\n",
       "      <td>NaN</td>\n",
       "      <td>0.0</td>\n",
       "      <td>NaN</td>\n",
       "      <td>NaN</td>\n",
       "      <td>NaN</td>\n",
       "      <td>NaN</td>\n",
       "      <td>NaN</td>\n",
       "      <td>-4.153689</td>\n",
       "      <td>47.866252</td>\n",
       "    </tr>\n",
       "  </tbody>\n",
       "</table>\n",
       "</div>"
      ],
      "text/plain": [
       "        id_mutation date_mutation numero_disposition nature_mutation  \\\n",
       "414958  2017-165267    2017-10-07             000001           Vente   \n",
       "414959  2017-165267    2017-10-07             000001           Vente   \n",
       "\n",
       "       valeur_fonciere adresse_numero adresse_suffixe adresse_nom_voie  \\\n",
       "414958         66700.0           5842               F  RTE DU TREUSTEL   \n",
       "414959         66700.0            NaN             NaN         PEN DIRY   \n",
       "\n",
       "       adresse_code_voie code_postal code_commune nom_commune  \\\n",
       "414958              0842       29120        29037     Combrit   \n",
       "414959              B171       29120        29037     Combrit   \n",
       "\n",
       "       code_departement ancien_code_commune ancien_nom_commune  \\\n",
       "414958               29                 NaN                NaN   \n",
       "414959               29                 NaN                NaN   \n",
       "\n",
       "           id_parcelle ancien_id_parcelle numero_volume lot1_numero  \\\n",
       "414958  29037000AH0454                NaN           NaN         117   \n",
       "414959  29037000AH0454                NaN           NaN          45   \n",
       "\n",
       "       lot1_surface_carrez lot2_numero lot2_surface_carrez lot3_numero  \\\n",
       "414958                38.7         NaN                 NaN         NaN   \n",
       "414959                 NaN         NaN                 NaN         NaN   \n",
       "\n",
       "       lot3_surface_carrez lot4_numero lot4_surface_carrez lot5_numero  \\\n",
       "414958                 NaN         NaN                 NaN         NaN   \n",
       "414959                 NaN         NaN                 NaN         NaN   \n",
       "\n",
       "       lot5_surface_carrez nombre_lots code_type_local   type_local  \\\n",
       "414958                 NaN           1               2  Appartement   \n",
       "414959                 NaN           1               3   Dépendance   \n",
       "\n",
       "       surface_reelle_bati nombre_pieces_principales code_nature_culture  \\\n",
       "414958                 NaN                       NaN                 NaN   \n",
       "414959                 NaN                       0.0                 NaN   \n",
       "\n",
       "       nature_culture code_nature_culture_speciale nature_culture_speciale  \\\n",
       "414958            NaN                          NaN                     NaN   \n",
       "414959            NaN                          NaN                     NaN   \n",
       "\n",
       "       surface_terrain longitude   latitude  \n",
       "414958             NaN -4.153689  47.866252  \n",
       "414959             NaN -4.153689  47.866252  "
      ]
     },
     "execution_count": 80,
     "metadata": {},
     "output_type": "execute_result"
    }
   ],
   "source": [
    "df.loc[df['id_mutation']=='2017-165267']"
   ]
  },
  {
   "cell_type": "code",
   "execution_count": 77,
   "id": "302e85b3",
   "metadata": {},
   "outputs": [
    {
     "data": {
      "text/html": [
       "<div>\n",
       "<style scoped>\n",
       "    .dataframe tbody tr th:only-of-type {\n",
       "        vertical-align: middle;\n",
       "    }\n",
       "\n",
       "    .dataframe tbody tr th {\n",
       "        vertical-align: top;\n",
       "    }\n",
       "\n",
       "    .dataframe thead th {\n",
       "        text-align: right;\n",
       "    }\n",
       "</style>\n",
       "<table border=\"1\" class=\"dataframe\">\n",
       "  <thead>\n",
       "    <tr style=\"text-align: right;\">\n",
       "      <th></th>\n",
       "      <th>id_mutation</th>\n",
       "      <th>date_mutation</th>\n",
       "      <th>numero_disposition</th>\n",
       "      <th>nature_mutation</th>\n",
       "      <th>valeur_fonciere</th>\n",
       "      <th>adresse_numero</th>\n",
       "      <th>adresse_suffixe</th>\n",
       "      <th>adresse_nom_voie</th>\n",
       "      <th>adresse_code_voie</th>\n",
       "      <th>code_postal</th>\n",
       "      <th>code_commune</th>\n",
       "      <th>nom_commune</th>\n",
       "      <th>code_departement</th>\n",
       "      <th>ancien_code_commune</th>\n",
       "      <th>ancien_nom_commune</th>\n",
       "      <th>id_parcelle</th>\n",
       "      <th>ancien_id_parcelle</th>\n",
       "      <th>numero_volume</th>\n",
       "      <th>lot1_numero</th>\n",
       "      <th>lot1_surface_carrez</th>\n",
       "      <th>lot2_numero</th>\n",
       "      <th>lot2_surface_carrez</th>\n",
       "      <th>lot3_numero</th>\n",
       "      <th>lot3_surface_carrez</th>\n",
       "      <th>lot4_numero</th>\n",
       "      <th>lot4_surface_carrez</th>\n",
       "      <th>lot5_numero</th>\n",
       "      <th>lot5_surface_carrez</th>\n",
       "      <th>nombre_lots</th>\n",
       "      <th>code_type_local</th>\n",
       "      <th>type_local</th>\n",
       "      <th>surface_reelle_bati</th>\n",
       "      <th>nombre_pieces_principales</th>\n",
       "      <th>code_nature_culture</th>\n",
       "      <th>nature_culture</th>\n",
       "      <th>code_nature_culture_speciale</th>\n",
       "      <th>nature_culture_speciale</th>\n",
       "      <th>surface_terrain</th>\n",
       "      <th>longitude</th>\n",
       "      <th>latitude</th>\n",
       "    </tr>\n",
       "  </thead>\n",
       "  <tbody>\n",
       "    <tr>\n",
       "      <th>3088</th>\n",
       "      <td>2017-1317</td>\n",
       "      <td>2017-10-19</td>\n",
       "      <td>000001</td>\n",
       "      <td>Vente</td>\n",
       "      <td>110000.0</td>\n",
       "      <td>NaN</td>\n",
       "      <td>NaN</td>\n",
       "      <td>COLIGNY LE HAUT</td>\n",
       "      <td>B050</td>\n",
       "      <td>01270</td>\n",
       "      <td>01108</td>\n",
       "      <td>Coligny</td>\n",
       "      <td>01</td>\n",
       "      <td>NaN</td>\n",
       "      <td>NaN</td>\n",
       "      <td>01108000AD0044</td>\n",
       "      <td>NaN</td>\n",
       "      <td>2</td>\n",
       "      <td>NaN</td>\n",
       "      <td>NaN</td>\n",
       "      <td>NaN</td>\n",
       "      <td>NaN</td>\n",
       "      <td>NaN</td>\n",
       "      <td>NaN</td>\n",
       "      <td>NaN</td>\n",
       "      <td>NaN</td>\n",
       "      <td>NaN</td>\n",
       "      <td>NaN</td>\n",
       "      <td>0</td>\n",
       "      <td>NaN</td>\n",
       "      <td>NaN</td>\n",
       "      <td>NaN</td>\n",
       "      <td>NaN</td>\n",
       "      <td>NaN</td>\n",
       "      <td>NaN</td>\n",
       "      <td>NaN</td>\n",
       "      <td>NaN</td>\n",
       "      <td>NaN</td>\n",
       "      <td>5.344019</td>\n",
       "      <td>46.382684</td>\n",
       "    </tr>\n",
       "    <tr>\n",
       "      <th>3089</th>\n",
       "      <td>2017-1317</td>\n",
       "      <td>2017-10-19</td>\n",
       "      <td>000001</td>\n",
       "      <td>Vente</td>\n",
       "      <td>110000.0</td>\n",
       "      <td>NaN</td>\n",
       "      <td>NaN</td>\n",
       "      <td>COLIGNY LE HAUT</td>\n",
       "      <td>B050</td>\n",
       "      <td>01270</td>\n",
       "      <td>01108</td>\n",
       "      <td>Coligny</td>\n",
       "      <td>01</td>\n",
       "      <td>NaN</td>\n",
       "      <td>NaN</td>\n",
       "      <td>01108000AD0044</td>\n",
       "      <td>NaN</td>\n",
       "      <td>6</td>\n",
       "      <td>NaN</td>\n",
       "      <td>NaN</td>\n",
       "      <td>NaN</td>\n",
       "      <td>NaN</td>\n",
       "      <td>NaN</td>\n",
       "      <td>NaN</td>\n",
       "      <td>NaN</td>\n",
       "      <td>NaN</td>\n",
       "      <td>NaN</td>\n",
       "      <td>NaN</td>\n",
       "      <td>0</td>\n",
       "      <td>NaN</td>\n",
       "      <td>NaN</td>\n",
       "      <td>NaN</td>\n",
       "      <td>NaN</td>\n",
       "      <td>NaN</td>\n",
       "      <td>NaN</td>\n",
       "      <td>NaN</td>\n",
       "      <td>NaN</td>\n",
       "      <td>NaN</td>\n",
       "      <td>5.344019</td>\n",
       "      <td>46.382684</td>\n",
       "    </tr>\n",
       "    <tr>\n",
       "      <th>9393</th>\n",
       "      <td>2017-3681</td>\n",
       "      <td>2017-09-29</td>\n",
       "      <td>000001</td>\n",
       "      <td>Vente</td>\n",
       "      <td>224000.0</td>\n",
       "      <td>NaN</td>\n",
       "      <td>NaN</td>\n",
       "      <td>NaN</td>\n",
       "      <td>NaN</td>\n",
       "      <td>NaN</td>\n",
       "      <td>01079</td>\n",
       "      <td>Champagne-en-Valromey</td>\n",
       "      <td>01</td>\n",
       "      <td>NaN</td>\n",
       "      <td>NaN</td>\n",
       "      <td>010790000B0351</td>\n",
       "      <td>NaN</td>\n",
       "      <td>1</td>\n",
       "      <td>NaN</td>\n",
       "      <td>NaN</td>\n",
       "      <td>NaN</td>\n",
       "      <td>NaN</td>\n",
       "      <td>NaN</td>\n",
       "      <td>NaN</td>\n",
       "      <td>NaN</td>\n",
       "      <td>NaN</td>\n",
       "      <td>NaN</td>\n",
       "      <td>NaN</td>\n",
       "      <td>0</td>\n",
       "      <td>NaN</td>\n",
       "      <td>NaN</td>\n",
       "      <td>NaN</td>\n",
       "      <td>NaN</td>\n",
       "      <td>NaN</td>\n",
       "      <td>NaN</td>\n",
       "      <td>NaN</td>\n",
       "      <td>NaN</td>\n",
       "      <td>NaN</td>\n",
       "      <td>5.67852</td>\n",
       "      <td>45.904331</td>\n",
       "    </tr>\n",
       "    <tr>\n",
       "      <th>9810</th>\n",
       "      <td>2017-3870</td>\n",
       "      <td>2017-10-11</td>\n",
       "      <td>000001</td>\n",
       "      <td>Vente</td>\n",
       "      <td>70000.0</td>\n",
       "      <td>27</td>\n",
       "      <td>NaN</td>\n",
       "      <td>CHE DE LA PLANCHE BRULEE</td>\n",
       "      <td>0055</td>\n",
       "      <td>01210</td>\n",
       "      <td>01160</td>\n",
       "      <td>Ferney-Voltaire</td>\n",
       "      <td>01</td>\n",
       "      <td>NaN</td>\n",
       "      <td>NaN</td>\n",
       "      <td>01160000AC0108</td>\n",
       "      <td>NaN</td>\n",
       "      <td>1</td>\n",
       "      <td>NaN</td>\n",
       "      <td>NaN</td>\n",
       "      <td>NaN</td>\n",
       "      <td>NaN</td>\n",
       "      <td>NaN</td>\n",
       "      <td>NaN</td>\n",
       "      <td>NaN</td>\n",
       "      <td>NaN</td>\n",
       "      <td>NaN</td>\n",
       "      <td>NaN</td>\n",
       "      <td>0</td>\n",
       "      <td>NaN</td>\n",
       "      <td>NaN</td>\n",
       "      <td>NaN</td>\n",
       "      <td>NaN</td>\n",
       "      <td>NaN</td>\n",
       "      <td>NaN</td>\n",
       "      <td>NaN</td>\n",
       "      <td>NaN</td>\n",
       "      <td>NaN</td>\n",
       "      <td>6.099265</td>\n",
       "      <td>46.250559</td>\n",
       "    </tr>\n",
       "    <tr>\n",
       "      <th>9909</th>\n",
       "      <td>2017-3918</td>\n",
       "      <td>2017-09-21</td>\n",
       "      <td>000001</td>\n",
       "      <td>Vente</td>\n",
       "      <td>143000.0</td>\n",
       "      <td>NaN</td>\n",
       "      <td>NaN</td>\n",
       "      <td>LE VILLAGE</td>\n",
       "      <td>B141</td>\n",
       "      <td>01100</td>\n",
       "      <td>01014</td>\n",
       "      <td>Arbent</td>\n",
       "      <td>01</td>\n",
       "      <td>NaN</td>\n",
       "      <td>NaN</td>\n",
       "      <td>01014000AB0076</td>\n",
       "      <td>NaN</td>\n",
       "      <td>1</td>\n",
       "      <td>NaN</td>\n",
       "      <td>NaN</td>\n",
       "      <td>NaN</td>\n",
       "      <td>NaN</td>\n",
       "      <td>NaN</td>\n",
       "      <td>NaN</td>\n",
       "      <td>NaN</td>\n",
       "      <td>NaN</td>\n",
       "      <td>NaN</td>\n",
       "      <td>NaN</td>\n",
       "      <td>0</td>\n",
       "      <td>NaN</td>\n",
       "      <td>NaN</td>\n",
       "      <td>NaN</td>\n",
       "      <td>NaN</td>\n",
       "      <td>NaN</td>\n",
       "      <td>NaN</td>\n",
       "      <td>NaN</td>\n",
       "      <td>NaN</td>\n",
       "      <td>NaN</td>\n",
       "      <td>5.681806</td>\n",
       "      <td>46.295845</td>\n",
       "    </tr>\n",
       "    <tr>\n",
       "      <th>...</th>\n",
       "      <td>...</td>\n",
       "      <td>...</td>\n",
       "      <td>...</td>\n",
       "      <td>...</td>\n",
       "      <td>...</td>\n",
       "      <td>...</td>\n",
       "      <td>...</td>\n",
       "      <td>...</td>\n",
       "      <td>...</td>\n",
       "      <td>...</td>\n",
       "      <td>...</td>\n",
       "      <td>...</td>\n",
       "      <td>...</td>\n",
       "      <td>...</td>\n",
       "      <td>...</td>\n",
       "      <td>...</td>\n",
       "      <td>...</td>\n",
       "      <td>...</td>\n",
       "      <td>...</td>\n",
       "      <td>...</td>\n",
       "      <td>...</td>\n",
       "      <td>...</td>\n",
       "      <td>...</td>\n",
       "      <td>...</td>\n",
       "      <td>...</td>\n",
       "      <td>...</td>\n",
       "      <td>...</td>\n",
       "      <td>...</td>\n",
       "      <td>...</td>\n",
       "      <td>...</td>\n",
       "      <td>...</td>\n",
       "      <td>...</td>\n",
       "      <td>...</td>\n",
       "      <td>...</td>\n",
       "      <td>...</td>\n",
       "      <td>...</td>\n",
       "      <td>...</td>\n",
       "      <td>...</td>\n",
       "      <td>...</td>\n",
       "      <td>...</td>\n",
       "    </tr>\n",
       "    <tr>\n",
       "      <th>1420158</th>\n",
       "      <td>2022-532925</td>\n",
       "      <td>2022-04-27</td>\n",
       "      <td>000001</td>\n",
       "      <td>Vente</td>\n",
       "      <td>25188088.0</td>\n",
       "      <td>1</td>\n",
       "      <td>B</td>\n",
       "      <td>BD VICTOR</td>\n",
       "      <td>9743</td>\n",
       "      <td>75015</td>\n",
       "      <td>75115</td>\n",
       "      <td>Paris 15e Arrondissement</td>\n",
       "      <td>75</td>\n",
       "      <td>NaN</td>\n",
       "      <td>NaN</td>\n",
       "      <td>75115000EX0008</td>\n",
       "      <td>NaN</td>\n",
       "      <td>4</td>\n",
       "      <td>NaN</td>\n",
       "      <td>NaN</td>\n",
       "      <td>NaN</td>\n",
       "      <td>NaN</td>\n",
       "      <td>NaN</td>\n",
       "      <td>NaN</td>\n",
       "      <td>NaN</td>\n",
       "      <td>NaN</td>\n",
       "      <td>NaN</td>\n",
       "      <td>NaN</td>\n",
       "      <td>0</td>\n",
       "      <td>NaN</td>\n",
       "      <td>NaN</td>\n",
       "      <td>NaN</td>\n",
       "      <td>NaN</td>\n",
       "      <td>NaN</td>\n",
       "      <td>NaN</td>\n",
       "      <td>NaN</td>\n",
       "      <td>NaN</td>\n",
       "      <td>NaN</td>\n",
       "      <td>2.278984</td>\n",
       "      <td>48.836326</td>\n",
       "    </tr>\n",
       "    <tr>\n",
       "      <th>1420445</th>\n",
       "      <td>2022-533065</td>\n",
       "      <td>2022-05-13</td>\n",
       "      <td>000001</td>\n",
       "      <td>Vente</td>\n",
       "      <td>830000.0</td>\n",
       "      <td>24</td>\n",
       "      <td>NaN</td>\n",
       "      <td>RUE DU TEXEL</td>\n",
       "      <td>9224</td>\n",
       "      <td>75014</td>\n",
       "      <td>75114</td>\n",
       "      <td>Paris 14e Arrondissement</td>\n",
       "      <td>75</td>\n",
       "      <td>NaN</td>\n",
       "      <td>NaN</td>\n",
       "      <td>75114000DQ0150</td>\n",
       "      <td>NaN</td>\n",
       "      <td>2</td>\n",
       "      <td>NaN</td>\n",
       "      <td>NaN</td>\n",
       "      <td>NaN</td>\n",
       "      <td>NaN</td>\n",
       "      <td>NaN</td>\n",
       "      <td>NaN</td>\n",
       "      <td>NaN</td>\n",
       "      <td>NaN</td>\n",
       "      <td>NaN</td>\n",
       "      <td>NaN</td>\n",
       "      <td>0</td>\n",
       "      <td>NaN</td>\n",
       "      <td>NaN</td>\n",
       "      <td>NaN</td>\n",
       "      <td>NaN</td>\n",
       "      <td>NaN</td>\n",
       "      <td>NaN</td>\n",
       "      <td>NaN</td>\n",
       "      <td>NaN</td>\n",
       "      <td>NaN</td>\n",
       "      <td>2.32006</td>\n",
       "      <td>48.836253</td>\n",
       "    </tr>\n",
       "    <tr>\n",
       "      <th>1425827</th>\n",
       "      <td>2022-535799</td>\n",
       "      <td>2022-06-24</td>\n",
       "      <td>000001</td>\n",
       "      <td>Vente</td>\n",
       "      <td>1673550.6</td>\n",
       "      <td>4</td>\n",
       "      <td>NaN</td>\n",
       "      <td>RUE GERMAINE KRULL</td>\n",
       "      <td>4167</td>\n",
       "      <td>75013</td>\n",
       "      <td>75113</td>\n",
       "      <td>Paris 13e Arrondissement</td>\n",
       "      <td>75</td>\n",
       "      <td>NaN</td>\n",
       "      <td>NaN</td>\n",
       "      <td>75113000DA0121</td>\n",
       "      <td>NaN</td>\n",
       "      <td>3</td>\n",
       "      <td>NaN</td>\n",
       "      <td>NaN</td>\n",
       "      <td>NaN</td>\n",
       "      <td>NaN</td>\n",
       "      <td>NaN</td>\n",
       "      <td>NaN</td>\n",
       "      <td>NaN</td>\n",
       "      <td>NaN</td>\n",
       "      <td>NaN</td>\n",
       "      <td>NaN</td>\n",
       "      <td>0</td>\n",
       "      <td>NaN</td>\n",
       "      <td>NaN</td>\n",
       "      <td>NaN</td>\n",
       "      <td>NaN</td>\n",
       "      <td>NaN</td>\n",
       "      <td>NaN</td>\n",
       "      <td>NaN</td>\n",
       "      <td>NaN</td>\n",
       "      <td>NaN</td>\n",
       "      <td>2.358891</td>\n",
       "      <td>48.817215</td>\n",
       "    </tr>\n",
       "    <tr>\n",
       "      <th>1427435</th>\n",
       "      <td>2022-536522</td>\n",
       "      <td>2022-05-23</td>\n",
       "      <td>000001</td>\n",
       "      <td>Vente</td>\n",
       "      <td>16342800.0</td>\n",
       "      <td>13</td>\n",
       "      <td>NaN</td>\n",
       "      <td>RUE DE L ASSOMPTION</td>\n",
       "      <td>0503</td>\n",
       "      <td>75016</td>\n",
       "      <td>75116</td>\n",
       "      <td>Paris 16e Arrondissement</td>\n",
       "      <td>75</td>\n",
       "      <td>NaN</td>\n",
       "      <td>NaN</td>\n",
       "      <td>75116000BU0056</td>\n",
       "      <td>NaN</td>\n",
       "      <td>2</td>\n",
       "      <td>NaN</td>\n",
       "      <td>NaN</td>\n",
       "      <td>NaN</td>\n",
       "      <td>NaN</td>\n",
       "      <td>NaN</td>\n",
       "      <td>NaN</td>\n",
       "      <td>NaN</td>\n",
       "      <td>NaN</td>\n",
       "      <td>NaN</td>\n",
       "      <td>NaN</td>\n",
       "      <td>0</td>\n",
       "      <td>NaN</td>\n",
       "      <td>NaN</td>\n",
       "      <td>NaN</td>\n",
       "      <td>NaN</td>\n",
       "      <td>NaN</td>\n",
       "      <td>NaN</td>\n",
       "      <td>NaN</td>\n",
       "      <td>NaN</td>\n",
       "      <td>NaN</td>\n",
       "      <td>2.273617</td>\n",
       "      <td>48.853092</td>\n",
       "    </tr>\n",
       "    <tr>\n",
       "      <th>1427436</th>\n",
       "      <td>2022-536522</td>\n",
       "      <td>2022-05-23</td>\n",
       "      <td>000001</td>\n",
       "      <td>Vente</td>\n",
       "      <td>16342800.0</td>\n",
       "      <td>13</td>\n",
       "      <td>NaN</td>\n",
       "      <td>RUE DE L ASSOMPTION</td>\n",
       "      <td>0503</td>\n",
       "      <td>75016</td>\n",
       "      <td>75116</td>\n",
       "      <td>Paris 16e Arrondissement</td>\n",
       "      <td>75</td>\n",
       "      <td>NaN</td>\n",
       "      <td>NaN</td>\n",
       "      <td>75116000BU0056</td>\n",
       "      <td>NaN</td>\n",
       "      <td>3</td>\n",
       "      <td>NaN</td>\n",
       "      <td>NaN</td>\n",
       "      <td>NaN</td>\n",
       "      <td>NaN</td>\n",
       "      <td>NaN</td>\n",
       "      <td>NaN</td>\n",
       "      <td>NaN</td>\n",
       "      <td>NaN</td>\n",
       "      <td>NaN</td>\n",
       "      <td>NaN</td>\n",
       "      <td>0</td>\n",
       "      <td>NaN</td>\n",
       "      <td>NaN</td>\n",
       "      <td>NaN</td>\n",
       "      <td>NaN</td>\n",
       "      <td>NaN</td>\n",
       "      <td>NaN</td>\n",
       "      <td>NaN</td>\n",
       "      <td>NaN</td>\n",
       "      <td>NaN</td>\n",
       "      <td>2.273617</td>\n",
       "      <td>48.853092</td>\n",
       "    </tr>\n",
       "  </tbody>\n",
       "</table>\n",
       "<p>24130 rows × 40 columns</p>\n",
       "</div>"
      ],
      "text/plain": [
       "         id_mutation date_mutation numero_disposition nature_mutation  \\\n",
       "3088       2017-1317    2017-10-19             000001           Vente   \n",
       "3089       2017-1317    2017-10-19             000001           Vente   \n",
       "9393       2017-3681    2017-09-29             000001           Vente   \n",
       "9810       2017-3870    2017-10-11             000001           Vente   \n",
       "9909       2017-3918    2017-09-21             000001           Vente   \n",
       "...              ...           ...                ...             ...   \n",
       "1420158  2022-532925    2022-04-27             000001           Vente   \n",
       "1420445  2022-533065    2022-05-13             000001           Vente   \n",
       "1425827  2022-535799    2022-06-24             000001           Vente   \n",
       "1427435  2022-536522    2022-05-23             000001           Vente   \n",
       "1427436  2022-536522    2022-05-23             000001           Vente   \n",
       "\n",
       "        valeur_fonciere adresse_numero adresse_suffixe  \\\n",
       "3088           110000.0            NaN             NaN   \n",
       "3089           110000.0            NaN             NaN   \n",
       "9393           224000.0            NaN             NaN   \n",
       "9810            70000.0             27             NaN   \n",
       "9909           143000.0            NaN             NaN   \n",
       "...                 ...            ...             ...   \n",
       "1420158      25188088.0              1               B   \n",
       "1420445        830000.0             24             NaN   \n",
       "1425827       1673550.6              4             NaN   \n",
       "1427435      16342800.0             13             NaN   \n",
       "1427436      16342800.0             13             NaN   \n",
       "\n",
       "                 adresse_nom_voie adresse_code_voie code_postal code_commune  \\\n",
       "3088              COLIGNY LE HAUT              B050       01270        01108   \n",
       "3089              COLIGNY LE HAUT              B050       01270        01108   \n",
       "9393                          NaN               NaN         NaN        01079   \n",
       "9810     CHE DE LA PLANCHE BRULEE              0055       01210        01160   \n",
       "9909                   LE VILLAGE              B141       01100        01014   \n",
       "...                           ...               ...         ...          ...   \n",
       "1420158                 BD VICTOR              9743       75015        75115   \n",
       "1420445              RUE DU TEXEL              9224       75014        75114   \n",
       "1425827        RUE GERMAINE KRULL              4167       75013        75113   \n",
       "1427435       RUE DE L ASSOMPTION              0503       75016        75116   \n",
       "1427436       RUE DE L ASSOMPTION              0503       75016        75116   \n",
       "\n",
       "                      nom_commune code_departement ancien_code_commune  \\\n",
       "3088                      Coligny               01                 NaN   \n",
       "3089                      Coligny               01                 NaN   \n",
       "9393        Champagne-en-Valromey               01                 NaN   \n",
       "9810              Ferney-Voltaire               01                 NaN   \n",
       "9909                       Arbent               01                 NaN   \n",
       "...                           ...              ...                 ...   \n",
       "1420158  Paris 15e Arrondissement               75                 NaN   \n",
       "1420445  Paris 14e Arrondissement               75                 NaN   \n",
       "1425827  Paris 13e Arrondissement               75                 NaN   \n",
       "1427435  Paris 16e Arrondissement               75                 NaN   \n",
       "1427436  Paris 16e Arrondissement               75                 NaN   \n",
       "\n",
       "        ancien_nom_commune     id_parcelle ancien_id_parcelle numero_volume  \\\n",
       "3088                   NaN  01108000AD0044                NaN             2   \n",
       "3089                   NaN  01108000AD0044                NaN             6   \n",
       "9393                   NaN  010790000B0351                NaN             1   \n",
       "9810                   NaN  01160000AC0108                NaN             1   \n",
       "9909                   NaN  01014000AB0076                NaN             1   \n",
       "...                    ...             ...                ...           ...   \n",
       "1420158                NaN  75115000EX0008                NaN             4   \n",
       "1420445                NaN  75114000DQ0150                NaN             2   \n",
       "1425827                NaN  75113000DA0121                NaN             3   \n",
       "1427435                NaN  75116000BU0056                NaN             2   \n",
       "1427436                NaN  75116000BU0056                NaN             3   \n",
       "\n",
       "        lot1_numero lot1_surface_carrez lot2_numero lot2_surface_carrez  \\\n",
       "3088            NaN                 NaN         NaN                 NaN   \n",
       "3089            NaN                 NaN         NaN                 NaN   \n",
       "9393            NaN                 NaN         NaN                 NaN   \n",
       "9810            NaN                 NaN         NaN                 NaN   \n",
       "9909            NaN                 NaN         NaN                 NaN   \n",
       "...             ...                 ...         ...                 ...   \n",
       "1420158         NaN                 NaN         NaN                 NaN   \n",
       "1420445         NaN                 NaN         NaN                 NaN   \n",
       "1425827         NaN                 NaN         NaN                 NaN   \n",
       "1427435         NaN                 NaN         NaN                 NaN   \n",
       "1427436         NaN                 NaN         NaN                 NaN   \n",
       "\n",
       "        lot3_numero lot3_surface_carrez lot4_numero lot4_surface_carrez  \\\n",
       "3088            NaN                 NaN         NaN                 NaN   \n",
       "3089            NaN                 NaN         NaN                 NaN   \n",
       "9393            NaN                 NaN         NaN                 NaN   \n",
       "9810            NaN                 NaN         NaN                 NaN   \n",
       "9909            NaN                 NaN         NaN                 NaN   \n",
       "...             ...                 ...         ...                 ...   \n",
       "1420158         NaN                 NaN         NaN                 NaN   \n",
       "1420445         NaN                 NaN         NaN                 NaN   \n",
       "1425827         NaN                 NaN         NaN                 NaN   \n",
       "1427435         NaN                 NaN         NaN                 NaN   \n",
       "1427436         NaN                 NaN         NaN                 NaN   \n",
       "\n",
       "        lot5_numero lot5_surface_carrez nombre_lots code_type_local  \\\n",
       "3088            NaN                 NaN           0             NaN   \n",
       "3089            NaN                 NaN           0             NaN   \n",
       "9393            NaN                 NaN           0             NaN   \n",
       "9810            NaN                 NaN           0             NaN   \n",
       "9909            NaN                 NaN           0             NaN   \n",
       "...             ...                 ...         ...             ...   \n",
       "1420158         NaN                 NaN           0             NaN   \n",
       "1420445         NaN                 NaN           0             NaN   \n",
       "1425827         NaN                 NaN           0             NaN   \n",
       "1427435         NaN                 NaN           0             NaN   \n",
       "1427436         NaN                 NaN           0             NaN   \n",
       "\n",
       "        type_local surface_reelle_bati nombre_pieces_principales  \\\n",
       "3088           NaN                 NaN                       NaN   \n",
       "3089           NaN                 NaN                       NaN   \n",
       "9393           NaN                 NaN                       NaN   \n",
       "9810           NaN                 NaN                       NaN   \n",
       "9909           NaN                 NaN                       NaN   \n",
       "...            ...                 ...                       ...   \n",
       "1420158        NaN                 NaN                       NaN   \n",
       "1420445        NaN                 NaN                       NaN   \n",
       "1425827        NaN                 NaN                       NaN   \n",
       "1427435        NaN                 NaN                       NaN   \n",
       "1427436        NaN                 NaN                       NaN   \n",
       "\n",
       "        code_nature_culture nature_culture code_nature_culture_speciale  \\\n",
       "3088                    NaN            NaN                          NaN   \n",
       "3089                    NaN            NaN                          NaN   \n",
       "9393                    NaN            NaN                          NaN   \n",
       "9810                    NaN            NaN                          NaN   \n",
       "9909                    NaN            NaN                          NaN   \n",
       "...                     ...            ...                          ...   \n",
       "1420158                 NaN            NaN                          NaN   \n",
       "1420445                 NaN            NaN                          NaN   \n",
       "1425827                 NaN            NaN                          NaN   \n",
       "1427435                 NaN            NaN                          NaN   \n",
       "1427436                 NaN            NaN                          NaN   \n",
       "\n",
       "        nature_culture_speciale surface_terrain longitude   latitude  \n",
       "3088                        NaN             NaN  5.344019  46.382684  \n",
       "3089                        NaN             NaN  5.344019  46.382684  \n",
       "9393                        NaN             NaN   5.67852  45.904331  \n",
       "9810                        NaN             NaN  6.099265  46.250559  \n",
       "9909                        NaN             NaN  5.681806  46.295845  \n",
       "...                         ...             ...       ...        ...  \n",
       "1420158                     NaN             NaN  2.278984  48.836326  \n",
       "1420445                     NaN             NaN   2.32006  48.836253  \n",
       "1425827                     NaN             NaN  2.358891  48.817215  \n",
       "1427435                     NaN             NaN  2.273617  48.853092  \n",
       "1427436                     NaN             NaN  2.273617  48.853092  \n",
       "\n",
       "[24130 rows x 40 columns]"
      ]
     },
     "execution_count": 77,
     "metadata": {},
     "output_type": "execute_result"
    }
   ],
   "source": [
    "df.loc[(df['id_mutation'].isin(full_no_type['id_mutation'])) & (df['nature_mutation']=='Vente')]"
   ]
  },
  {
   "cell_type": "code",
   "execution_count": 79,
   "id": "9f3f19f7",
   "metadata": {},
   "outputs": [
    {
     "data": {
      "text/html": [
       "<div>\n",
       "<style scoped>\n",
       "    .dataframe tbody tr th:only-of-type {\n",
       "        vertical-align: middle;\n",
       "    }\n",
       "\n",
       "    .dataframe tbody tr th {\n",
       "        vertical-align: top;\n",
       "    }\n",
       "\n",
       "    .dataframe thead th {\n",
       "        text-align: right;\n",
       "    }\n",
       "</style>\n",
       "<table border=\"1\" class=\"dataframe\">\n",
       "  <thead>\n",
       "    <tr style=\"text-align: right;\">\n",
       "      <th></th>\n",
       "      <th>id_mutation</th>\n",
       "      <th>date_mutation</th>\n",
       "      <th>numero_disposition</th>\n",
       "      <th>nature_mutation</th>\n",
       "      <th>valeur_fonciere</th>\n",
       "      <th>adresse_numero</th>\n",
       "      <th>adresse_suffixe</th>\n",
       "      <th>adresse_nom_voie</th>\n",
       "      <th>adresse_code_voie</th>\n",
       "      <th>code_postal</th>\n",
       "      <th>code_commune</th>\n",
       "      <th>nom_commune</th>\n",
       "      <th>code_departement</th>\n",
       "      <th>ancien_code_commune</th>\n",
       "      <th>ancien_nom_commune</th>\n",
       "      <th>id_parcelle</th>\n",
       "      <th>ancien_id_parcelle</th>\n",
       "      <th>numero_volume</th>\n",
       "      <th>lot1_numero</th>\n",
       "      <th>lot1_surface_carrez</th>\n",
       "      <th>lot2_numero</th>\n",
       "      <th>lot2_surface_carrez</th>\n",
       "      <th>lot3_numero</th>\n",
       "      <th>lot3_surface_carrez</th>\n",
       "      <th>lot4_numero</th>\n",
       "      <th>lot4_surface_carrez</th>\n",
       "      <th>lot5_numero</th>\n",
       "      <th>lot5_surface_carrez</th>\n",
       "      <th>nombre_lots</th>\n",
       "      <th>code_type_local</th>\n",
       "      <th>type_local</th>\n",
       "      <th>surface_reelle_bati</th>\n",
       "      <th>nombre_pieces_principales</th>\n",
       "      <th>code_nature_culture</th>\n",
       "      <th>nature_culture</th>\n",
       "      <th>code_nature_culture_speciale</th>\n",
       "      <th>nature_culture_speciale</th>\n",
       "      <th>surface_terrain</th>\n",
       "      <th>longitude</th>\n",
       "      <th>latitude</th>\n",
       "    </tr>\n",
       "  </thead>\n",
       "  <tbody>\n",
       "    <tr>\n",
       "      <th>69556</th>\n",
       "      <td>2017-29947</td>\n",
       "      <td>2017-08-07</td>\n",
       "      <td>000001</td>\n",
       "      <td>Vente en l'état futur d'achèvement</td>\n",
       "      <td>340000.0</td>\n",
       "      <td>27</td>\n",
       "      <td>NaN</td>\n",
       "      <td>BD CHARLES GUILLAUMONT</td>\n",
       "      <td>0690</td>\n",
       "      <td>06160</td>\n",
       "      <td>06004</td>\n",
       "      <td>Antibes</td>\n",
       "      <td>06</td>\n",
       "      <td>NaN</td>\n",
       "      <td>NaN</td>\n",
       "      <td>06004000CP0343</td>\n",
       "      <td>NaN</td>\n",
       "      <td>NaN</td>\n",
       "      <td>106</td>\n",
       "      <td>NaN</td>\n",
       "      <td>NaN</td>\n",
       "      <td>NaN</td>\n",
       "      <td>NaN</td>\n",
       "      <td>NaN</td>\n",
       "      <td>NaN</td>\n",
       "      <td>NaN</td>\n",
       "      <td>NaN</td>\n",
       "      <td>NaN</td>\n",
       "      <td>1</td>\n",
       "      <td>2</td>\n",
       "      <td>Appartement</td>\n",
       "      <td>NaN</td>\n",
       "      <td>NaN</td>\n",
       "      <td>NaN</td>\n",
       "      <td>NaN</td>\n",
       "      <td>NaN</td>\n",
       "      <td>NaN</td>\n",
       "      <td>NaN</td>\n",
       "      <td>7.105279</td>\n",
       "      <td>43.570556</td>\n",
       "    </tr>\n",
       "    <tr>\n",
       "      <th>163706</th>\n",
       "      <td>2017-64713</td>\n",
       "      <td>2017-07-04</td>\n",
       "      <td>000001</td>\n",
       "      <td>Vente</td>\n",
       "      <td>430500.0</td>\n",
       "      <td>17</td>\n",
       "      <td>NaN</td>\n",
       "      <td>RUE ERNEST RENAN</td>\n",
       "      <td>3189</td>\n",
       "      <td>13005</td>\n",
       "      <td>13205</td>\n",
       "      <td>Marseille 5e Arrondissement</td>\n",
       "      <td>13</td>\n",
       "      <td>NaN</td>\n",
       "      <td>NaN</td>\n",
       "      <td>132058190E0231</td>\n",
       "      <td>NaN</td>\n",
       "      <td>NaN</td>\n",
       "      <td>26</td>\n",
       "      <td>NaN</td>\n",
       "      <td>NaN</td>\n",
       "      <td>NaN</td>\n",
       "      <td>NaN</td>\n",
       "      <td>NaN</td>\n",
       "      <td>NaN</td>\n",
       "      <td>NaN</td>\n",
       "      <td>NaN</td>\n",
       "      <td>NaN</td>\n",
       "      <td>1</td>\n",
       "      <td>2</td>\n",
       "      <td>Appartement</td>\n",
       "      <td>NaN</td>\n",
       "      <td>NaN</td>\n",
       "      <td>NaN</td>\n",
       "      <td>NaN</td>\n",
       "      <td>NaN</td>\n",
       "      <td>NaN</td>\n",
       "      <td>NaN</td>\n",
       "      <td>5.39351</td>\n",
       "      <td>43.28695</td>\n",
       "    </tr>\n",
       "    <tr>\n",
       "      <th>172305</th>\n",
       "      <td>2017-69513</td>\n",
       "      <td>2017-10-12</td>\n",
       "      <td>000001</td>\n",
       "      <td>Vente</td>\n",
       "      <td>205000.0</td>\n",
       "      <td>14</td>\n",
       "      <td>NaN</td>\n",
       "      <td>AV DE LA BARQUIERE</td>\n",
       "      <td>0762</td>\n",
       "      <td>13009</td>\n",
       "      <td>13209</td>\n",
       "      <td>Marseille 9e Arrondissement</td>\n",
       "      <td>13</td>\n",
       "      <td>NaN</td>\n",
       "      <td>NaN</td>\n",
       "      <td>132098520B0200</td>\n",
       "      <td>NaN</td>\n",
       "      <td>NaN</td>\n",
       "      <td>70</td>\n",
       "      <td>NaN</td>\n",
       "      <td>NaN</td>\n",
       "      <td>NaN</td>\n",
       "      <td>NaN</td>\n",
       "      <td>NaN</td>\n",
       "      <td>NaN</td>\n",
       "      <td>NaN</td>\n",
       "      <td>NaN</td>\n",
       "      <td>NaN</td>\n",
       "      <td>1</td>\n",
       "      <td>2</td>\n",
       "      <td>Appartement</td>\n",
       "      <td>NaN</td>\n",
       "      <td>NaN</td>\n",
       "      <td>NaN</td>\n",
       "      <td>NaN</td>\n",
       "      <td>NaN</td>\n",
       "      <td>NaN</td>\n",
       "      <td>NaN</td>\n",
       "      <td>5.39828</td>\n",
       "      <td>43.244482</td>\n",
       "    </tr>\n",
       "    <tr>\n",
       "      <th>414958</th>\n",
       "      <td>2017-165267</td>\n",
       "      <td>2017-10-07</td>\n",
       "      <td>000001</td>\n",
       "      <td>Vente</td>\n",
       "      <td>66700.0</td>\n",
       "      <td>5842</td>\n",
       "      <td>F</td>\n",
       "      <td>RTE DU TREUSTEL</td>\n",
       "      <td>0842</td>\n",
       "      <td>29120</td>\n",
       "      <td>29037</td>\n",
       "      <td>Combrit</td>\n",
       "      <td>29</td>\n",
       "      <td>NaN</td>\n",
       "      <td>NaN</td>\n",
       "      <td>29037000AH0454</td>\n",
       "      <td>NaN</td>\n",
       "      <td>NaN</td>\n",
       "      <td>117</td>\n",
       "      <td>38.7</td>\n",
       "      <td>NaN</td>\n",
       "      <td>NaN</td>\n",
       "      <td>NaN</td>\n",
       "      <td>NaN</td>\n",
       "      <td>NaN</td>\n",
       "      <td>NaN</td>\n",
       "      <td>NaN</td>\n",
       "      <td>NaN</td>\n",
       "      <td>1</td>\n",
       "      <td>2</td>\n",
       "      <td>Appartement</td>\n",
       "      <td>NaN</td>\n",
       "      <td>NaN</td>\n",
       "      <td>NaN</td>\n",
       "      <td>NaN</td>\n",
       "      <td>NaN</td>\n",
       "      <td>NaN</td>\n",
       "      <td>NaN</td>\n",
       "      <td>-4.153689</td>\n",
       "      <td>47.866252</td>\n",
       "    </tr>\n",
       "    <tr>\n",
       "      <th>483478</th>\n",
       "      <td>2017-195408</td>\n",
       "      <td>2017-12-15</td>\n",
       "      <td>000001</td>\n",
       "      <td>Vente</td>\n",
       "      <td>18000.0</td>\n",
       "      <td>23</td>\n",
       "      <td>NaN</td>\n",
       "      <td>AV DES ETATS UNIS</td>\n",
       "      <td>3104</td>\n",
       "      <td>31200</td>\n",
       "      <td>31555</td>\n",
       "      <td>Toulouse</td>\n",
       "      <td>31</td>\n",
       "      <td>NaN</td>\n",
       "      <td>NaN</td>\n",
       "      <td>31555829AX0158</td>\n",
       "      <td>NaN</td>\n",
       "      <td>NaN</td>\n",
       "      <td>8</td>\n",
       "      <td>NaN</td>\n",
       "      <td>NaN</td>\n",
       "      <td>NaN</td>\n",
       "      <td>NaN</td>\n",
       "      <td>NaN</td>\n",
       "      <td>NaN</td>\n",
       "      <td>NaN</td>\n",
       "      <td>NaN</td>\n",
       "      <td>NaN</td>\n",
       "      <td>1</td>\n",
       "      <td>2</td>\n",
       "      <td>Appartement</td>\n",
       "      <td>NaN</td>\n",
       "      <td>NaN</td>\n",
       "      <td>NaN</td>\n",
       "      <td>NaN</td>\n",
       "      <td>NaN</td>\n",
       "      <td>NaN</td>\n",
       "      <td>NaN</td>\n",
       "      <td>1.432834</td>\n",
       "      <td>43.628084</td>\n",
       "    </tr>\n",
       "    <tr>\n",
       "      <th>...</th>\n",
       "      <td>...</td>\n",
       "      <td>...</td>\n",
       "      <td>...</td>\n",
       "      <td>...</td>\n",
       "      <td>...</td>\n",
       "      <td>...</td>\n",
       "      <td>...</td>\n",
       "      <td>...</td>\n",
       "      <td>...</td>\n",
       "      <td>...</td>\n",
       "      <td>...</td>\n",
       "      <td>...</td>\n",
       "      <td>...</td>\n",
       "      <td>...</td>\n",
       "      <td>...</td>\n",
       "      <td>...</td>\n",
       "      <td>...</td>\n",
       "      <td>...</td>\n",
       "      <td>...</td>\n",
       "      <td>...</td>\n",
       "      <td>...</td>\n",
       "      <td>...</td>\n",
       "      <td>...</td>\n",
       "      <td>...</td>\n",
       "      <td>...</td>\n",
       "      <td>...</td>\n",
       "      <td>...</td>\n",
       "      <td>...</td>\n",
       "      <td>...</td>\n",
       "      <td>...</td>\n",
       "      <td>...</td>\n",
       "      <td>...</td>\n",
       "      <td>...</td>\n",
       "      <td>...</td>\n",
       "      <td>...</td>\n",
       "      <td>...</td>\n",
       "      <td>...</td>\n",
       "      <td>...</td>\n",
       "      <td>...</td>\n",
       "      <td>...</td>\n",
       "    </tr>\n",
       "    <tr>\n",
       "      <th>4272586</th>\n",
       "      <td>2021-1571443</td>\n",
       "      <td>2021-03-16</td>\n",
       "      <td>000001</td>\n",
       "      <td>Vente</td>\n",
       "      <td>320000.0</td>\n",
       "      <td>17</td>\n",
       "      <td>NaN</td>\n",
       "      <td>LOT LONY</td>\n",
       "      <td>A080</td>\n",
       "      <td>97354</td>\n",
       "      <td>97309</td>\n",
       "      <td>Remire-Montjoly</td>\n",
       "      <td>973</td>\n",
       "      <td>NaN</td>\n",
       "      <td>NaN</td>\n",
       "      <td>97309000AC0784</td>\n",
       "      <td>NaN</td>\n",
       "      <td>NaN</td>\n",
       "      <td>NaN</td>\n",
       "      <td>NaN</td>\n",
       "      <td>NaN</td>\n",
       "      <td>NaN</td>\n",
       "      <td>NaN</td>\n",
       "      <td>NaN</td>\n",
       "      <td>NaN</td>\n",
       "      <td>NaN</td>\n",
       "      <td>NaN</td>\n",
       "      <td>NaN</td>\n",
       "      <td>0</td>\n",
       "      <td>2</td>\n",
       "      <td>Appartement</td>\n",
       "      <td>NaN</td>\n",
       "      <td>NaN</td>\n",
       "      <td>S</td>\n",
       "      <td>sols</td>\n",
       "      <td>NaN</td>\n",
       "      <td>NaN</td>\n",
       "      <td>1059.0</td>\n",
       "      <td>-52.282859</td>\n",
       "      <td>4.922113</td>\n",
       "    </tr>\n",
       "    <tr>\n",
       "      <th>4286342</th>\n",
       "      <td>2021-1577237</td>\n",
       "      <td>2021-10-14</td>\n",
       "      <td>000001</td>\n",
       "      <td>Vente</td>\n",
       "      <td>350000.0</td>\n",
       "      <td>13</td>\n",
       "      <td>NaN</td>\n",
       "      <td>ALL DES OPALES</td>\n",
       "      <td>1027</td>\n",
       "      <td>97400</td>\n",
       "      <td>97411</td>\n",
       "      <td>Saint-Denis</td>\n",
       "      <td>974</td>\n",
       "      <td>NaN</td>\n",
       "      <td>NaN</td>\n",
       "      <td>97411000DE0250</td>\n",
       "      <td>NaN</td>\n",
       "      <td>NaN</td>\n",
       "      <td>8</td>\n",
       "      <td>65.5</td>\n",
       "      <td>NaN</td>\n",
       "      <td>NaN</td>\n",
       "      <td>NaN</td>\n",
       "      <td>NaN</td>\n",
       "      <td>NaN</td>\n",
       "      <td>NaN</td>\n",
       "      <td>NaN</td>\n",
       "      <td>NaN</td>\n",
       "      <td>1</td>\n",
       "      <td>2</td>\n",
       "      <td>Appartement</td>\n",
       "      <td>NaN</td>\n",
       "      <td>NaN</td>\n",
       "      <td>NaN</td>\n",
       "      <td>NaN</td>\n",
       "      <td>NaN</td>\n",
       "      <td>NaN</td>\n",
       "      <td>NaN</td>\n",
       "      <td>55.445232</td>\n",
       "      <td>-20.892732</td>\n",
       "    </tr>\n",
       "    <tr>\n",
       "      <th>640442</th>\n",
       "      <td>2022-230107</td>\n",
       "      <td>2022-06-01</td>\n",
       "      <td>000001</td>\n",
       "      <td>Vente</td>\n",
       "      <td>372500.0</td>\n",
       "      <td>24</td>\n",
       "      <td>NaN</td>\n",
       "      <td>MAIL SUD</td>\n",
       "      <td>0978</td>\n",
       "      <td>45300</td>\n",
       "      <td>45252</td>\n",
       "      <td>Pithiviers</td>\n",
       "      <td>45</td>\n",
       "      <td>NaN</td>\n",
       "      <td>NaN</td>\n",
       "      <td>45252000AK0106</td>\n",
       "      <td>NaN</td>\n",
       "      <td>NaN</td>\n",
       "      <td>NaN</td>\n",
       "      <td>NaN</td>\n",
       "      <td>NaN</td>\n",
       "      <td>NaN</td>\n",
       "      <td>NaN</td>\n",
       "      <td>NaN</td>\n",
       "      <td>NaN</td>\n",
       "      <td>NaN</td>\n",
       "      <td>NaN</td>\n",
       "      <td>NaN</td>\n",
       "      <td>0</td>\n",
       "      <td>2</td>\n",
       "      <td>Appartement</td>\n",
       "      <td>NaN</td>\n",
       "      <td>NaN</td>\n",
       "      <td>S</td>\n",
       "      <td>sols</td>\n",
       "      <td>NaN</td>\n",
       "      <td>NaN</td>\n",
       "      <td>229.0</td>\n",
       "      <td>2.255575</td>\n",
       "      <td>48.171167</td>\n",
       "    </tr>\n",
       "    <tr>\n",
       "      <th>902184</th>\n",
       "      <td>2022-330880</td>\n",
       "      <td>2022-04-29</td>\n",
       "      <td>000001</td>\n",
       "      <td>Vente</td>\n",
       "      <td>146220.0</td>\n",
       "      <td>41</td>\n",
       "      <td>NaN</td>\n",
       "      <td>AV JACQUES DUCLOS</td>\n",
       "      <td>0855</td>\n",
       "      <td>69200</td>\n",
       "      <td>69259</td>\n",
       "      <td>Vénissieux</td>\n",
       "      <td>69</td>\n",
       "      <td>NaN</td>\n",
       "      <td>NaN</td>\n",
       "      <td>69259000BS0110</td>\n",
       "      <td>NaN</td>\n",
       "      <td>NaN</td>\n",
       "      <td>9</td>\n",
       "      <td>42.44</td>\n",
       "      <td>NaN</td>\n",
       "      <td>NaN</td>\n",
       "      <td>NaN</td>\n",
       "      <td>NaN</td>\n",
       "      <td>NaN</td>\n",
       "      <td>NaN</td>\n",
       "      <td>NaN</td>\n",
       "      <td>NaN</td>\n",
       "      <td>1</td>\n",
       "      <td>2</td>\n",
       "      <td>Appartement</td>\n",
       "      <td>NaN</td>\n",
       "      <td>NaN</td>\n",
       "      <td>NaN</td>\n",
       "      <td>NaN</td>\n",
       "      <td>NaN</td>\n",
       "      <td>NaN</td>\n",
       "      <td>NaN</td>\n",
       "      <td>4.894086</td>\n",
       "      <td>45.698423</td>\n",
       "    </tr>\n",
       "    <tr>\n",
       "      <th>1374816</th>\n",
       "      <td>2022-511718</td>\n",
       "      <td>2022-03-15</td>\n",
       "      <td>000001</td>\n",
       "      <td>Vente</td>\n",
       "      <td>98000.0</td>\n",
       "      <td>5901</td>\n",
       "      <td>F</td>\n",
       "      <td>RUE SAINT MICHEL</td>\n",
       "      <td>0650</td>\n",
       "      <td>97240</td>\n",
       "      <td>97210</td>\n",
       "      <td>Le François</td>\n",
       "      <td>972</td>\n",
       "      <td>NaN</td>\n",
       "      <td>NaN</td>\n",
       "      <td>972100000A1073</td>\n",
       "      <td>NaN</td>\n",
       "      <td>NaN</td>\n",
       "      <td>NaN</td>\n",
       "      <td>NaN</td>\n",
       "      <td>NaN</td>\n",
       "      <td>NaN</td>\n",
       "      <td>NaN</td>\n",
       "      <td>NaN</td>\n",
       "      <td>NaN</td>\n",
       "      <td>NaN</td>\n",
       "      <td>NaN</td>\n",
       "      <td>NaN</td>\n",
       "      <td>0</td>\n",
       "      <td>2</td>\n",
       "      <td>Appartement</td>\n",
       "      <td>NaN</td>\n",
       "      <td>NaN</td>\n",
       "      <td>S</td>\n",
       "      <td>sols</td>\n",
       "      <td>NaN</td>\n",
       "      <td>NaN</td>\n",
       "      <td>278.0</td>\n",
       "      <td>NaN</td>\n",
       "      <td>NaN</td>\n",
       "    </tr>\n",
       "  </tbody>\n",
       "</table>\n",
       "<p>212 rows × 40 columns</p>\n",
       "</div>"
      ],
      "text/plain": [
       "          id_mutation date_mutation numero_disposition  \\\n",
       "69556      2017-29947    2017-08-07             000001   \n",
       "163706     2017-64713    2017-07-04             000001   \n",
       "172305     2017-69513    2017-10-12             000001   \n",
       "414958    2017-165267    2017-10-07             000001   \n",
       "483478    2017-195408    2017-12-15             000001   \n",
       "...               ...           ...                ...   \n",
       "4272586  2021-1571443    2021-03-16             000001   \n",
       "4286342  2021-1577237    2021-10-14             000001   \n",
       "640442    2022-230107    2022-06-01             000001   \n",
       "902184    2022-330880    2022-04-29             000001   \n",
       "1374816   2022-511718    2022-03-15             000001   \n",
       "\n",
       "                            nature_mutation valeur_fonciere adresse_numero  \\\n",
       "69556    Vente en l'état futur d'achèvement        340000.0             27   \n",
       "163706                                Vente        430500.0             17   \n",
       "172305                                Vente        205000.0             14   \n",
       "414958                                Vente         66700.0           5842   \n",
       "483478                                Vente         18000.0             23   \n",
       "...                                     ...             ...            ...   \n",
       "4272586                               Vente        320000.0             17   \n",
       "4286342                               Vente        350000.0             13   \n",
       "640442                                Vente        372500.0             24   \n",
       "902184                                Vente        146220.0             41   \n",
       "1374816                               Vente         98000.0           5901   \n",
       "\n",
       "        adresse_suffixe        adresse_nom_voie adresse_code_voie code_postal  \\\n",
       "69556               NaN  BD CHARLES GUILLAUMONT              0690       06160   \n",
       "163706              NaN        RUE ERNEST RENAN              3189       13005   \n",
       "172305              NaN      AV DE LA BARQUIERE              0762       13009   \n",
       "414958                F         RTE DU TREUSTEL              0842       29120   \n",
       "483478              NaN       AV DES ETATS UNIS              3104       31200   \n",
       "...                 ...                     ...               ...         ...   \n",
       "4272586             NaN                LOT LONY              A080       97354   \n",
       "4286342             NaN          ALL DES OPALES              1027       97400   \n",
       "640442              NaN                MAIL SUD              0978       45300   \n",
       "902184              NaN       AV JACQUES DUCLOS              0855       69200   \n",
       "1374816               F        RUE SAINT MICHEL              0650       97240   \n",
       "\n",
       "        code_commune                  nom_commune code_departement  \\\n",
       "69556          06004                      Antibes               06   \n",
       "163706         13205  Marseille 5e Arrondissement               13   \n",
       "172305         13209  Marseille 9e Arrondissement               13   \n",
       "414958         29037                      Combrit               29   \n",
       "483478         31555                     Toulouse               31   \n",
       "...              ...                          ...              ...   \n",
       "4272586        97309              Remire-Montjoly              973   \n",
       "4286342        97411                  Saint-Denis              974   \n",
       "640442         45252                   Pithiviers               45   \n",
       "902184         69259                   Vénissieux               69   \n",
       "1374816        97210                  Le François              972   \n",
       "\n",
       "        ancien_code_commune ancien_nom_commune     id_parcelle  \\\n",
       "69556                   NaN                NaN  06004000CP0343   \n",
       "163706                  NaN                NaN  132058190E0231   \n",
       "172305                  NaN                NaN  132098520B0200   \n",
       "414958                  NaN                NaN  29037000AH0454   \n",
       "483478                  NaN                NaN  31555829AX0158   \n",
       "...                     ...                ...             ...   \n",
       "4272586                 NaN                NaN  97309000AC0784   \n",
       "4286342                 NaN                NaN  97411000DE0250   \n",
       "640442                  NaN                NaN  45252000AK0106   \n",
       "902184                  NaN                NaN  69259000BS0110   \n",
       "1374816                 NaN                NaN  972100000A1073   \n",
       "\n",
       "        ancien_id_parcelle numero_volume lot1_numero lot1_surface_carrez  \\\n",
       "69556                  NaN           NaN         106                 NaN   \n",
       "163706                 NaN           NaN          26                 NaN   \n",
       "172305                 NaN           NaN          70                 NaN   \n",
       "414958                 NaN           NaN         117                38.7   \n",
       "483478                 NaN           NaN           8                 NaN   \n",
       "...                    ...           ...         ...                 ...   \n",
       "4272586                NaN           NaN         NaN                 NaN   \n",
       "4286342                NaN           NaN           8                65.5   \n",
       "640442                 NaN           NaN         NaN                 NaN   \n",
       "902184                 NaN           NaN           9               42.44   \n",
       "1374816                NaN           NaN         NaN                 NaN   \n",
       "\n",
       "        lot2_numero lot2_surface_carrez lot3_numero lot3_surface_carrez  \\\n",
       "69556           NaN                 NaN         NaN                 NaN   \n",
       "163706          NaN                 NaN         NaN                 NaN   \n",
       "172305          NaN                 NaN         NaN                 NaN   \n",
       "414958          NaN                 NaN         NaN                 NaN   \n",
       "483478          NaN                 NaN         NaN                 NaN   \n",
       "...             ...                 ...         ...                 ...   \n",
       "4272586         NaN                 NaN         NaN                 NaN   \n",
       "4286342         NaN                 NaN         NaN                 NaN   \n",
       "640442          NaN                 NaN         NaN                 NaN   \n",
       "902184          NaN                 NaN         NaN                 NaN   \n",
       "1374816         NaN                 NaN         NaN                 NaN   \n",
       "\n",
       "        lot4_numero lot4_surface_carrez lot5_numero lot5_surface_carrez  \\\n",
       "69556           NaN                 NaN         NaN                 NaN   \n",
       "163706          NaN                 NaN         NaN                 NaN   \n",
       "172305          NaN                 NaN         NaN                 NaN   \n",
       "414958          NaN                 NaN         NaN                 NaN   \n",
       "483478          NaN                 NaN         NaN                 NaN   \n",
       "...             ...                 ...         ...                 ...   \n",
       "4272586         NaN                 NaN         NaN                 NaN   \n",
       "4286342         NaN                 NaN         NaN                 NaN   \n",
       "640442          NaN                 NaN         NaN                 NaN   \n",
       "902184          NaN                 NaN         NaN                 NaN   \n",
       "1374816         NaN                 NaN         NaN                 NaN   \n",
       "\n",
       "        nombre_lots code_type_local   type_local surface_reelle_bati  \\\n",
       "69556             1               2  Appartement                 NaN   \n",
       "163706            1               2  Appartement                 NaN   \n",
       "172305            1               2  Appartement                 NaN   \n",
       "414958            1               2  Appartement                 NaN   \n",
       "483478            1               2  Appartement                 NaN   \n",
       "...             ...             ...          ...                 ...   \n",
       "4272586           0               2  Appartement                 NaN   \n",
       "4286342           1               2  Appartement                 NaN   \n",
       "640442            0               2  Appartement                 NaN   \n",
       "902184            1               2  Appartement                 NaN   \n",
       "1374816           0               2  Appartement                 NaN   \n",
       "\n",
       "        nombre_pieces_principales code_nature_culture nature_culture  \\\n",
       "69556                         NaN                 NaN            NaN   \n",
       "163706                        NaN                 NaN            NaN   \n",
       "172305                        NaN                 NaN            NaN   \n",
       "414958                        NaN                 NaN            NaN   \n",
       "483478                        NaN                 NaN            NaN   \n",
       "...                           ...                 ...            ...   \n",
       "4272586                       NaN                   S           sols   \n",
       "4286342                       NaN                 NaN            NaN   \n",
       "640442                        NaN                   S           sols   \n",
       "902184                        NaN                 NaN            NaN   \n",
       "1374816                       NaN                   S           sols   \n",
       "\n",
       "        code_nature_culture_speciale nature_culture_speciale surface_terrain  \\\n",
       "69556                            NaN                     NaN             NaN   \n",
       "163706                           NaN                     NaN             NaN   \n",
       "172305                           NaN                     NaN             NaN   \n",
       "414958                           NaN                     NaN             NaN   \n",
       "483478                           NaN                     NaN             NaN   \n",
       "...                              ...                     ...             ...   \n",
       "4272586                          NaN                     NaN          1059.0   \n",
       "4286342                          NaN                     NaN             NaN   \n",
       "640442                           NaN                     NaN           229.0   \n",
       "902184                           NaN                     NaN             NaN   \n",
       "1374816                          NaN                     NaN           278.0   \n",
       "\n",
       "         longitude   latitude  \n",
       "69556     7.105279  43.570556  \n",
       "163706     5.39351   43.28695  \n",
       "172305     5.39828  43.244482  \n",
       "414958   -4.153689  47.866252  \n",
       "483478    1.432834  43.628084  \n",
       "...            ...        ...  \n",
       "4272586 -52.282859   4.922113  \n",
       "4286342  55.445232 -20.892732  \n",
       "640442    2.255575  48.171167  \n",
       "902184    4.894086  45.698423  \n",
       "1374816        NaN        NaN  \n",
       "\n",
       "[212 rows x 40 columns]"
      ]
     },
     "execution_count": 79,
     "metadata": {},
     "output_type": "execute_result"
    }
   ],
   "source": [
    "## appartement ou maison sans nombre de pièces\n",
    "df.loc[df['code_type_local'].isin(['1','2']) & df['nombre_pieces_principales'].isna()]"
   ]
  },
  {
   "cell_type": "code",
   "execution_count": null,
   "id": "f06602f4",
   "metadata": {},
   "outputs": [],
   "source": []
  }
 ],
 "metadata": {
  "kernelspec": {
   "display_name": "Python 3 (ipykernel)",
   "language": "python",
   "name": "python3"
  },
  "language_info": {
   "codemirror_mode": {
    "name": "ipython",
    "version": 3
   },
   "file_extension": ".py",
   "mimetype": "text/x-python",
   "name": "python",
   "nbconvert_exporter": "python",
   "pygments_lexer": "ipython3",
   "version": "3.10.8"
  }
 },
 "nbformat": 4,
 "nbformat_minor": 5
}
